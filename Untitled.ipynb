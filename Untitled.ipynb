{
 "cells": [
  {
   "cell_type": "code",
   "execution_count": 1,
   "id": "cd0ab87a-5e1a-4951-8cd5-a003c8800e70",
   "metadata": {},
   "outputs": [],
   "source": [
    "#Importing libraries \n",
    "import pandas as pd\n",
    "from matplotlib import pyplot as plt\n",
    "import seaborn as sns\n",
    "import numpy as np\n",
    "from sklearn.model_selection import train_test_split\n",
    "from tensorflow.keras import Sequential, layers\n",
    "from tensorflow.keras.layers import Dense, SimpleRNN\n",
    "from tensorflow.keras.callbacks import EarlyStopping"
   ]
  },
  {
   "cell_type": "code",
   "execution_count": 72,
   "id": "c523ac13",
   "metadata": {},
   "outputs": [
    {
     "data": {
      "text/html": [
       "<div>\n",
       "<style scoped>\n",
       "    .dataframe tbody tr th:only-of-type {\n",
       "        vertical-align: middle;\n",
       "    }\n",
       "\n",
       "    .dataframe tbody tr th {\n",
       "        vertical-align: top;\n",
       "    }\n",
       "\n",
       "    .dataframe thead th {\n",
       "        text-align: right;\n",
       "    }\n",
       "</style>\n",
       "<table border=\"1\" class=\"dataframe\">\n",
       "  <thead>\n",
       "    <tr style=\"text-align: right;\">\n",
       "      <th></th>\n",
       "      <th>Unnamed: 0</th>\n",
       "      <th>Country</th>\n",
       "      <th>Year</th>\n",
       "      <th>fertility</th>\n",
       "      <th>Code</th>\n",
       "      <th>avg_years_of_schooling</th>\n",
       "    </tr>\n",
       "  </thead>\n",
       "  <tbody>\n",
       "    <tr>\n",
       "      <th>0</th>\n",
       "      <td>0</td>\n",
       "      <td>Afghanistan</td>\n",
       "      <td>2007</td>\n",
       "      <td>6.56</td>\n",
       "      <td>AFG</td>\n",
       "      <td>2.9</td>\n",
       "    </tr>\n",
       "    <tr>\n",
       "      <th>1</th>\n",
       "      <td>1</td>\n",
       "      <td>Afghanistan</td>\n",
       "      <td>1995</td>\n",
       "      <td>7.61</td>\n",
       "      <td>AFG</td>\n",
       "      <td>1.9</td>\n",
       "    </tr>\n",
       "    <tr>\n",
       "      <th>2</th>\n",
       "      <td>2</td>\n",
       "      <td>Afghanistan</td>\n",
       "      <td>2008</td>\n",
       "      <td>6.37</td>\n",
       "      <td>AFG</td>\n",
       "      <td>3.0</td>\n",
       "    </tr>\n",
       "    <tr>\n",
       "      <th>3</th>\n",
       "      <td>3</td>\n",
       "      <td>Afghanistan</td>\n",
       "      <td>2017</td>\n",
       "      <td>4.63</td>\n",
       "      <td>AFG</td>\n",
       "      <td>3.8</td>\n",
       "    </tr>\n",
       "    <tr>\n",
       "      <th>4</th>\n",
       "      <td>4</td>\n",
       "      <td>Afghanistan</td>\n",
       "      <td>1994</td>\n",
       "      <td>7.57</td>\n",
       "      <td>AFG</td>\n",
       "      <td>1.8</td>\n",
       "    </tr>\n",
       "  </tbody>\n",
       "</table>\n",
       "</div>"
      ],
      "text/plain": [
       "   Unnamed: 0      Country  Year  fertility Code  avg_years_of_schooling\n",
       "0           0  Afghanistan  2007       6.56  AFG                     2.9\n",
       "1           1  Afghanistan  1995       7.61  AFG                     1.9\n",
       "2           2  Afghanistan  2008       6.37  AFG                     3.0\n",
       "3           3  Afghanistan  2017       4.63  AFG                     3.8\n",
       "4           4  Afghanistan  1994       7.57  AFG                     1.8"
      ]
     },
     "execution_count": 72,
     "metadata": {},
     "output_type": "execute_result"
    }
   ],
   "source": [
    "data = pd.read_csv('./raw_data/treated.csv')\n",
    "data.head()"
   ]
  },
  {
   "cell_type": "code",
   "execution_count": 3,
   "id": "929c106d",
   "metadata": {},
   "outputs": [
    {
     "data": {
      "text/html": [
       "<div>\n",
       "<style scoped>\n",
       "    .dataframe tbody tr th:only-of-type {\n",
       "        vertical-align: middle;\n",
       "    }\n",
       "\n",
       "    .dataframe tbody tr th {\n",
       "        vertical-align: top;\n",
       "    }\n",
       "\n",
       "    .dataframe thead th {\n",
       "        text-align: right;\n",
       "    }\n",
       "</style>\n",
       "<table border=\"1\" class=\"dataframe\">\n",
       "  <thead>\n",
       "    <tr style=\"text-align: right;\">\n",
       "      <th></th>\n",
       "      <th>Unnamed: 0</th>\n",
       "      <th>Country</th>\n",
       "      <th>Year</th>\n",
       "      <th>fertility</th>\n",
       "      <th>Code</th>\n",
       "      <th>avg_years_of_schooling</th>\n",
       "    </tr>\n",
       "  </thead>\n",
       "  <tbody>\n",
       "    <tr>\n",
       "      <th>0</th>\n",
       "      <td>0</td>\n",
       "      <td>Afghanistan</td>\n",
       "      <td>2007</td>\n",
       "      <td>6.56</td>\n",
       "      <td>AFG</td>\n",
       "      <td>2.9</td>\n",
       "    </tr>\n",
       "    <tr>\n",
       "      <th>1</th>\n",
       "      <td>1</td>\n",
       "      <td>Afghanistan</td>\n",
       "      <td>1995</td>\n",
       "      <td>7.61</td>\n",
       "      <td>AFG</td>\n",
       "      <td>1.9</td>\n",
       "    </tr>\n",
       "    <tr>\n",
       "      <th>2</th>\n",
       "      <td>2</td>\n",
       "      <td>Afghanistan</td>\n",
       "      <td>2008</td>\n",
       "      <td>6.37</td>\n",
       "      <td>AFG</td>\n",
       "      <td>3.0</td>\n",
       "    </tr>\n",
       "    <tr>\n",
       "      <th>3</th>\n",
       "      <td>3</td>\n",
       "      <td>Afghanistan</td>\n",
       "      <td>2017</td>\n",
       "      <td>4.63</td>\n",
       "      <td>AFG</td>\n",
       "      <td>3.8</td>\n",
       "    </tr>\n",
       "    <tr>\n",
       "      <th>4</th>\n",
       "      <td>4</td>\n",
       "      <td>Afghanistan</td>\n",
       "      <td>1994</td>\n",
       "      <td>7.57</td>\n",
       "      <td>AFG</td>\n",
       "      <td>1.8</td>\n",
       "    </tr>\n",
       "    <tr>\n",
       "      <th>...</th>\n",
       "      <td>...</td>\n",
       "      <td>...</td>\n",
       "      <td>...</td>\n",
       "      <td>...</td>\n",
       "      <td>...</td>\n",
       "      <td>...</td>\n",
       "    </tr>\n",
       "    <tr>\n",
       "      <th>5121</th>\n",
       "      <td>5121</td>\n",
       "      <td>Zimbabwe</td>\n",
       "      <td>2010</td>\n",
       "      <td>4.03</td>\n",
       "      <td>ZWE</td>\n",
       "      <td>7.3</td>\n",
       "    </tr>\n",
       "    <tr>\n",
       "      <th>5122</th>\n",
       "      <td>5122</td>\n",
       "      <td>Zimbabwe</td>\n",
       "      <td>2000</td>\n",
       "      <td>3.75</td>\n",
       "      <td>ZWE</td>\n",
       "      <td>6.5</td>\n",
       "    </tr>\n",
       "    <tr>\n",
       "      <th>5123</th>\n",
       "      <td>5123</td>\n",
       "      <td>Zimbabwe</td>\n",
       "      <td>2017</td>\n",
       "      <td>3.71</td>\n",
       "      <td>ZWE</td>\n",
       "      <td>8.2</td>\n",
       "    </tr>\n",
       "    <tr>\n",
       "      <th>5124</th>\n",
       "      <td>5124</td>\n",
       "      <td>Zimbabwe</td>\n",
       "      <td>2002</td>\n",
       "      <td>3.72</td>\n",
       "      <td>ZWE</td>\n",
       "      <td>6.9</td>\n",
       "    </tr>\n",
       "    <tr>\n",
       "      <th>5125</th>\n",
       "      <td>5125</td>\n",
       "      <td>Zimbabwe</td>\n",
       "      <td>2001</td>\n",
       "      <td>3.73</td>\n",
       "      <td>ZWE</td>\n",
       "      <td>6.7</td>\n",
       "    </tr>\n",
       "  </tbody>\n",
       "</table>\n",
       "<p>5126 rows × 6 columns</p>\n",
       "</div>"
      ],
      "text/plain": [
       "      Unnamed: 0      Country  Year  fertility Code  avg_years_of_schooling\n",
       "0              0  Afghanistan  2007       6.56  AFG                     2.9\n",
       "1              1  Afghanistan  1995       7.61  AFG                     1.9\n",
       "2              2  Afghanistan  2008       6.37  AFG                     3.0\n",
       "3              3  Afghanistan  2017       4.63  AFG                     3.8\n",
       "4              4  Afghanistan  1994       7.57  AFG                     1.8\n",
       "...          ...          ...   ...        ...  ...                     ...\n",
       "5121        5121     Zimbabwe  2010       4.03  ZWE                     7.3\n",
       "5122        5122     Zimbabwe  2000       3.75  ZWE                     6.5\n",
       "5123        5123     Zimbabwe  2017       3.71  ZWE                     8.2\n",
       "5124        5124     Zimbabwe  2002       3.72  ZWE                     6.9\n",
       "5125        5125     Zimbabwe  2001       3.73  ZWE                     6.7\n",
       "\n",
       "[5126 rows x 6 columns]"
      ]
     },
     "execution_count": 3,
     "metadata": {},
     "output_type": "execute_result"
    }
   ],
   "source": [
    "data"
   ]
  },
  {
   "cell_type": "code",
   "execution_count": 42,
   "id": "b2f97907",
   "metadata": {},
   "outputs": [],
   "source": [
    "def preproc(data:pd.DataFrame) -> pd.DataFrame:\n",
    "    '''\n",
    "    Fines adjustments on dataset\n",
    "    '''\n",
    "    #Removing columns\n",
    "    data.drop(columns=['Unnamed: 0', 'Code'], inplace=True)\n",
    "\n",
    "    #Ordering by year and set it as index\n",
    "    data.sort_values('Year', inplace=True)\n",
    "    data.set_index('Year', inplace=True)\n",
    "    \n",
    "    return data"
   ]
  },
  {
   "cell_type": "code",
   "execution_count": 43,
   "id": "37d29977",
   "metadata": {},
   "outputs": [
    {
     "data": {
      "text/html": [
       "<div>\n",
       "<style scoped>\n",
       "    .dataframe tbody tr th:only-of-type {\n",
       "        vertical-align: middle;\n",
       "    }\n",
       "\n",
       "    .dataframe tbody tr th {\n",
       "        vertical-align: top;\n",
       "    }\n",
       "\n",
       "    .dataframe thead th {\n",
       "        text-align: right;\n",
       "    }\n",
       "</style>\n",
       "<table border=\"1\" class=\"dataframe\">\n",
       "  <thead>\n",
       "    <tr style=\"text-align: right;\">\n",
       "      <th></th>\n",
       "      <th>Country</th>\n",
       "      <th>fertility</th>\n",
       "      <th>avg_years_of_schooling</th>\n",
       "    </tr>\n",
       "    <tr>\n",
       "      <th>Year</th>\n",
       "      <th></th>\n",
       "      <th></th>\n",
       "      <th></th>\n",
       "    </tr>\n",
       "  </thead>\n",
       "  <tbody>\n",
       "    <tr>\n",
       "      <th>1960</th>\n",
       "      <td>Germany</td>\n",
       "      <td>2.37</td>\n",
       "      <td>7.53</td>\n",
       "    </tr>\n",
       "    <tr>\n",
       "      <th>1960</th>\n",
       "      <td>Thailand</td>\n",
       "      <td>6.15</td>\n",
       "      <td>2.07</td>\n",
       "    </tr>\n",
       "    <tr>\n",
       "      <th>1960</th>\n",
       "      <td>Kazakhstan</td>\n",
       "      <td>4.56</td>\n",
       "      <td>3.07</td>\n",
       "    </tr>\n",
       "    <tr>\n",
       "      <th>1960</th>\n",
       "      <td>Vietnam</td>\n",
       "      <td>6.35</td>\n",
       "      <td>2.01</td>\n",
       "    </tr>\n",
       "    <tr>\n",
       "      <th>1960</th>\n",
       "      <td>Kenya</td>\n",
       "      <td>7.95</td>\n",
       "      <td>1.21</td>\n",
       "    </tr>\n",
       "  </tbody>\n",
       "</table>\n",
       "</div>"
      ],
      "text/plain": [
       "         Country  fertility  avg_years_of_schooling\n",
       "Year                                               \n",
       "1960     Germany       2.37                    7.53\n",
       "1960    Thailand       6.15                    2.07\n",
       "1960  Kazakhstan       4.56                    3.07\n",
       "1960     Vietnam       6.35                    2.01\n",
       "1960       Kenya       7.95                    1.21"
      ]
     },
     "execution_count": 43,
     "metadata": {},
     "output_type": "execute_result"
    }
   ],
   "source": [
    "df = preproc(data)\n",
    "df.head()"
   ]
  },
  {
   "cell_type": "code",
   "execution_count": 103,
   "id": "45150e36",
   "metadata": {},
   "outputs": [],
   "source": [
    "def list_X_y(data:pd.DataFrame) -> list:\n",
    "    '''\n",
    "    Given a countries dataset, this function returns\n",
    "    two list of dataframes, ie., lists containing one dataframe per country.\n",
    "    '''\n",
    "    countries = data.Country.unique().tolist()\n",
    "\n",
    "    X = []\n",
    "    y = []\n",
    "    \n",
    "    new_df = pd.DataFrame()\n",
    "\n",
    "    for country in countries:\n",
    "        new_df = data[data['Country']==country][['fertility', 'avg_years_of_schooling']]\n",
    "        \n",
    "        if new_df.shape[0] == 34:\n",
    "            X.append(new_df.head(33))\n",
    "            y.append(new_df['avg_years_of_schooling'].tail(1))\n",
    "        else:\n",
    "            pass\n",
    "         \n",
    "    return X, y"
   ]
  },
  {
   "cell_type": "code",
   "execution_count": 69,
   "id": "b5f1c43d",
   "metadata": {},
   "outputs": [],
   "source": [
    "X, y = list_X_y(data)"
   ]
  },
  {
   "cell_type": "code",
   "execution_count": null,
   "id": "4e8d8522",
   "metadata": {},
   "outputs": [],
   "source": [
    "X_new = np.array([np.array(X[0]), np.array(X[1]), np.array(X[2]), \n",
    "                  np.array(X[3]), np.array(X[4])]).astype(np.float32)"
   ]
  },
  {
   "cell_type": "code",
   "execution_count": null,
   "id": "c6ac9dc4",
   "metadata": {},
   "outputs": [],
   "source": []
  },
  {
   "cell_type": "code",
   "execution_count": null,
   "id": "7263071a",
   "metadata": {},
   "outputs": [],
   "source": []
  },
  {
   "cell_type": "code",
   "execution_count": null,
   "id": "6343d93a",
   "metadata": {},
   "outputs": [],
   "source": []
  },
  {
   "cell_type": "code",
   "execution_count": null,
   "id": "f31df3e2",
   "metadata": {},
   "outputs": [],
   "source": []
  },
  {
   "cell_type": "code",
   "execution_count": null,
   "id": "40c3bfa5",
   "metadata": {},
   "outputs": [],
   "source": []
  },
  {
   "cell_type": "code",
   "execution_count": null,
   "id": "d340a059",
   "metadata": {},
   "outputs": [],
   "source": []
  },
  {
   "cell_type": "code",
   "execution_count": null,
   "id": "eac28faa",
   "metadata": {},
   "outputs": [],
   "source": []
  },
  {
   "cell_type": "code",
   "execution_count": null,
   "id": "cc10a6ff",
   "metadata": {},
   "outputs": [],
   "source": []
  },
  {
   "cell_type": "code",
   "execution_count": null,
   "id": "251db866",
   "metadata": {},
   "outputs": [],
   "source": []
  },
  {
   "cell_type": "code",
   "execution_count": 21,
   "id": "e91dd280",
   "metadata": {},
   "outputs": [],
   "source": [
    "#Splits into train and test sets\n",
    "X_train, X_test, y_train, y_test = train_test_split(fert, y, test_size=0.20)"
   ]
  },
  {
   "cell_type": "code",
   "execution_count": 22,
   "id": "99cc74d6",
   "metadata": {},
   "outputs": [],
   "source": [
    "model = Sequential()\n",
    "model.add(SimpleRNN(units=20, activation='tanh'))\n",
    "model.add(Dense(10, activation=\"relu\"))\n",
    "model.add(Dense(1, activation=\"linear\"))"
   ]
  },
  {
   "cell_type": "code",
   "execution_count": 23,
   "id": "2480e19a",
   "metadata": {},
   "outputs": [],
   "source": [
    "model.compile(loss='mse', \n",
    "              optimizer='adam') #change to adam"
   ]
  },
  {
   "cell_type": "markdown",
   "id": "6f9a31ac",
   "metadata": {},
   "source": [
    "# Error with list of dataframes"
   ]
  },
  {
   "cell_type": "code",
   "execution_count": null,
   "id": "89acc2e0",
   "metadata": {},
   "outputs": [],
   "source": []
  },
  {
   "cell_type": "code",
   "execution_count": 24,
   "id": "14e5fe14",
   "metadata": {
    "collapsed": true
   },
   "outputs": [
    {
     "ename": "ValueError",
     "evalue": "Data cardinality is ambiguous:\n  x sizes: 84\n  y sizes: 34, 34, 34, 34, 34, 34, 34, 34, 34, 34, 34, 34, 34, 34, 34, 34, 34, 34, 34, 34, 34, 34, 34, 34, 34, 34, 34, 34, 34, 34, 34, 34, 34, 34, 34, 34, 34, 34, 34, 34, 34, 34, 34, 34, 34, 34, 34, 34, 34, 34, 34, 34, 34, 34, 34, 34, 34, 34, 34, 34, 34, 34, 34, 34, 34, 34, 34, 34, 34, 34, 34, 34, 34, 34, 34, 34, 34, 34, 34, 34, 34, 34, 34, 34, 34, 34, 34, 34, 34, 34, 34, 34, 34, 34, 34, 34, 34, 34, 34, 34, 34, 34, 34, 34, 34\nMake sure all arrays contain the same number of samples.",
     "output_type": "error",
     "traceback": [
      "\u001b[0;31m---------------------------------------------------------------------------\u001b[0m",
      "\u001b[0;31mValueError\u001b[0m                                Traceback (most recent call last)",
      "Cell \u001b[0;32mIn [24], line 3\u001b[0m\n\u001b[1;32m      1\u001b[0m es \u001b[38;5;241m=\u001b[39m EarlyStopping(patience\u001b[38;5;241m=\u001b[39m\u001b[38;5;241m5\u001b[39m)\n\u001b[0;32m----> 3\u001b[0m \u001b[43mmodel\u001b[49m\u001b[38;5;241;43m.\u001b[39;49m\u001b[43mfit\u001b[49m\u001b[43m(\u001b[49m\u001b[43mX_train\u001b[49m\u001b[43m,\u001b[49m\u001b[43m \u001b[49m\u001b[43my_train\u001b[49m\u001b[43m,\u001b[49m\n\u001b[1;32m      4\u001b[0m \u001b[43m          \u001b[49m\u001b[43mvalidation_split\u001b[49m\u001b[43m \u001b[49m\u001b[38;5;241;43m=\u001b[39;49m\u001b[43m \u001b[49m\u001b[38;5;241;43m0.2\u001b[39;49m\u001b[43m,\u001b[49m\n\u001b[1;32m      5\u001b[0m \u001b[43m          \u001b[49m\u001b[43mcallbacks\u001b[49m\u001b[38;5;241;43m=\u001b[39;49m\u001b[43m[\u001b[49m\u001b[43mes\u001b[49m\u001b[43m]\u001b[49m\u001b[43m,\u001b[49m\n\u001b[1;32m      6\u001b[0m \u001b[43m          \u001b[49m\u001b[43mepochs\u001b[49m\u001b[38;5;241;43m=\u001b[39;49m\u001b[38;5;241;43m10\u001b[39;49m\u001b[43m,\u001b[49m\u001b[43m \u001b[49m\n\u001b[1;32m      7\u001b[0m \u001b[43m          \u001b[49m\u001b[43mverbose\u001b[49m\u001b[38;5;241;43m=\u001b[39;49m\u001b[38;5;241;43m0\u001b[39;49m\u001b[43m)\u001b[49m\n",
      "File \u001b[0;32m~/.pyenv/versions/3.10.6/envs/fertility_schooling/lib/python3.10/site-packages/keras/utils/traceback_utils.py:70\u001b[0m, in \u001b[0;36mfilter_traceback.<locals>.error_handler\u001b[0;34m(*args, **kwargs)\u001b[0m\n\u001b[1;32m     67\u001b[0m     filtered_tb \u001b[38;5;241m=\u001b[39m _process_traceback_frames(e\u001b[38;5;241m.\u001b[39m__traceback__)\n\u001b[1;32m     68\u001b[0m     \u001b[38;5;66;03m# To get the full stack trace, call:\u001b[39;00m\n\u001b[1;32m     69\u001b[0m     \u001b[38;5;66;03m# `tf.debugging.disable_traceback_filtering()`\u001b[39;00m\n\u001b[0;32m---> 70\u001b[0m     \u001b[38;5;28;01mraise\u001b[39;00m e\u001b[38;5;241m.\u001b[39mwith_traceback(filtered_tb) \u001b[38;5;28;01mfrom\u001b[39;00m \u001b[38;5;28mNone\u001b[39m\n\u001b[1;32m     71\u001b[0m \u001b[38;5;28;01mfinally\u001b[39;00m:\n\u001b[1;32m     72\u001b[0m     \u001b[38;5;28;01mdel\u001b[39;00m filtered_tb\n",
      "File \u001b[0;32m~/.pyenv/versions/3.10.6/envs/fertility_schooling/lib/python3.10/site-packages/keras/engine/data_adapter.py:1851\u001b[0m, in \u001b[0;36m_check_data_cardinality\u001b[0;34m(data)\u001b[0m\n\u001b[1;32m   1844\u001b[0m     msg \u001b[38;5;241m+\u001b[39m\u001b[38;5;241m=\u001b[39m \u001b[38;5;124m\"\u001b[39m\u001b[38;5;124m  \u001b[39m\u001b[38;5;132;01m{}\u001b[39;00m\u001b[38;5;124m sizes: \u001b[39m\u001b[38;5;132;01m{}\u001b[39;00m\u001b[38;5;130;01m\\n\u001b[39;00m\u001b[38;5;124m\"\u001b[39m\u001b[38;5;241m.\u001b[39mformat(\n\u001b[1;32m   1845\u001b[0m         label,\n\u001b[1;32m   1846\u001b[0m         \u001b[38;5;124m\"\u001b[39m\u001b[38;5;124m, \u001b[39m\u001b[38;5;124m\"\u001b[39m\u001b[38;5;241m.\u001b[39mjoin(\n\u001b[1;32m   1847\u001b[0m             \u001b[38;5;28mstr\u001b[39m(i\u001b[38;5;241m.\u001b[39mshape[\u001b[38;5;241m0\u001b[39m]) \u001b[38;5;28;01mfor\u001b[39;00m i \u001b[38;5;129;01min\u001b[39;00m tf\u001b[38;5;241m.\u001b[39mnest\u001b[38;5;241m.\u001b[39mflatten(single_data)\n\u001b[1;32m   1848\u001b[0m         ),\n\u001b[1;32m   1849\u001b[0m     )\n\u001b[1;32m   1850\u001b[0m msg \u001b[38;5;241m+\u001b[39m\u001b[38;5;241m=\u001b[39m \u001b[38;5;124m\"\u001b[39m\u001b[38;5;124mMake sure all arrays contain the same number of samples.\u001b[39m\u001b[38;5;124m\"\u001b[39m\n\u001b[0;32m-> 1851\u001b[0m \u001b[38;5;28;01mraise\u001b[39;00m \u001b[38;5;167;01mValueError\u001b[39;00m(msg)\n",
      "\u001b[0;31mValueError\u001b[0m: Data cardinality is ambiguous:\n  x sizes: 84\n  y sizes: 34, 34, 34, 34, 34, 34, 34, 34, 34, 34, 34, 34, 34, 34, 34, 34, 34, 34, 34, 34, 34, 34, 34, 34, 34, 34, 34, 34, 34, 34, 34, 34, 34, 34, 34, 34, 34, 34, 34, 34, 34, 34, 34, 34, 34, 34, 34, 34, 34, 34, 34, 34, 34, 34, 34, 34, 34, 34, 34, 34, 34, 34, 34, 34, 34, 34, 34, 34, 34, 34, 34, 34, 34, 34, 34, 34, 34, 34, 34, 34, 34, 34, 34, 34, 34, 34, 34, 34, 34, 34, 34, 34, 34, 34, 34, 34, 34, 34, 34, 34, 34, 34, 34, 34, 34\nMake sure all arrays contain the same number of samples."
     ]
    }
   ],
   "source": [
    "es = EarlyStopping(patience=5)\n",
    "\n",
    "model.fit(X_train, y_train,\n",
    "          validation_split = 0.2,\n",
    "          callbacks=[es],\n",
    "          epochs=10, \n",
    "          verbose=0)"
   ]
  },
  {
   "cell_type": "markdown",
   "id": "c9250902",
   "metadata": {},
   "source": [
    "# Testing with the dataframe all in once"
   ]
  },
  {
   "cell_type": "code",
   "execution_count": null,
   "id": "d55b27fd",
   "metadata": {},
   "outputs": [],
   "source": [
    "df.drop(columns='Country', inplace=True)"
   ]
  },
  {
   "cell_type": "code",
   "execution_count": null,
   "id": "3bd6fcea",
   "metadata": {},
   "outputs": [],
   "source": [
    "X = df[['fertility','avg_years_of_schooling']]\n",
    "y = df['avg_years_of_schooling']"
   ]
  },
  {
   "cell_type": "code",
   "execution_count": null,
   "id": "43c4283e",
   "metadata": {},
   "outputs": [],
   "source": [
    "X_train, X_test, y_train, y_test = train_test_split(X, y, test_size=0.20)\n",
    "\n",
    "es = EarlyStopping(patience=5)\n",
    "\n",
    "model = Sequential()\n",
    "model.add(SimpleRNN(units=20, activation='tanh'))\n",
    "model.add(Dense(10, activation=\"relu\"))\n",
    "model.add(Dense(1, activation=\"linear\"))\n",
    "\n",
    "model.compile(loss='mse', \n",
    "              optimizer='adam') #change to adam\n",
    "\n",
    "model.fit(X_train, y_train,\n",
    "          epochs=10, \n",
    "          verbose=0)"
   ]
  },
  {
   "cell_type": "code",
   "execution_count": null,
   "id": "9772696d",
   "metadata": {},
   "outputs": [],
   "source": []
  },
  {
   "cell_type": "code",
   "execution_count": null,
   "id": "cb8fc268",
   "metadata": {},
   "outputs": [],
   "source": []
  },
  {
   "cell_type": "code",
   "execution_count": 29,
   "id": "5a866186",
   "metadata": {},
   "outputs": [
    {
     "data": {
      "text/html": [
       "<div>\n",
       "<style scoped>\n",
       "    .dataframe tbody tr th:only-of-type {\n",
       "        vertical-align: middle;\n",
       "    }\n",
       "\n",
       "    .dataframe tbody tr th {\n",
       "        vertical-align: top;\n",
       "    }\n",
       "\n",
       "    .dataframe thead th {\n",
       "        text-align: right;\n",
       "    }\n",
       "</style>\n",
       "<table border=\"1\" class=\"dataframe\">\n",
       "  <thead>\n",
       "    <tr style=\"text-align: right;\">\n",
       "      <th></th>\n",
       "      <th>Country</th>\n",
       "      <th>fertility</th>\n",
       "      <th>avg_years_of_schooling</th>\n",
       "    </tr>\n",
       "    <tr>\n",
       "      <th>Year</th>\n",
       "      <th></th>\n",
       "      <th></th>\n",
       "      <th></th>\n",
       "    </tr>\n",
       "  </thead>\n",
       "  <tbody>\n",
       "    <tr>\n",
       "      <th>1960</th>\n",
       "      <td>Japan</td>\n",
       "      <td>2.00</td>\n",
       "      <td>6.97</td>\n",
       "    </tr>\n",
       "    <tr>\n",
       "      <th>1965</th>\n",
       "      <td>Japan</td>\n",
       "      <td>2.14</td>\n",
       "      <td>6.94</td>\n",
       "    </tr>\n",
       "    <tr>\n",
       "      <th>1970</th>\n",
       "      <td>Japan</td>\n",
       "      <td>2.14</td>\n",
       "      <td>7.08</td>\n",
       "    </tr>\n",
       "    <tr>\n",
       "      <th>1975</th>\n",
       "      <td>Japan</td>\n",
       "      <td>1.91</td>\n",
       "      <td>7.90</td>\n",
       "    </tr>\n",
       "    <tr>\n",
       "      <th>1980</th>\n",
       "      <td>Japan</td>\n",
       "      <td>1.75</td>\n",
       "      <td>8.71</td>\n",
       "    </tr>\n",
       "  </tbody>\n",
       "</table>\n",
       "</div>"
      ],
      "text/plain": [
       "     Country  fertility  avg_years_of_schooling\n",
       "Year                                           \n",
       "1960   Japan       2.00                    6.97\n",
       "1965   Japan       2.14                    6.94\n",
       "1970   Japan       2.14                    7.08\n",
       "1975   Japan       1.91                    7.90\n",
       "1980   Japan       1.75                    8.71"
      ]
     },
     "execution_count": 29,
     "metadata": {},
     "output_type": "execute_result"
    }
   ],
   "source": [
    "df[df['Country']=='Japan'].head(5)"
   ]
  },
  {
   "cell_type": "code",
   "execution_count": 58,
   "id": "d941eda2",
   "metadata": {},
   "outputs": [],
   "source": [
    "# --- SEQUENCE A (brazil)\n",
    "\n",
    "day_1 = [6.06, 2.49]  # OBSERVATION 1 [fertility, avg_years_of_schooling, pollution]\n",
    "day_2 = [5.70, 2.77]  # OBSERVATION 2 [temperature, speed, pollution]\n",
    "day_3 = [ 4.97,  3.09]  # OBSERVATION 3 [temperature, speed, pollution]\n",
    "day_4 = [ 4.42,  2.82]  # OBSERVATION 4 [temperature, speed, pollution]\n",
    "\n",
    "sequence_a = [day_1, day_2, day_3, day_4]\n",
    "\n",
    "y_a = [2.93]\n",
    "\n",
    "day_1b = [2, 6.97]  # OBSERVATION 1 [fertility, avg_years_of_schooling, pollution]\n",
    "day_2b = [2.14, 6.94]  # OBSERVATION 2 [temperature, speed, pollution]\n",
    "day_3b = [2.14, 7.08]  # OBSERVATION 3 [temperature, speed, pollution]\n",
    "day_4b = [1.91, 7.9]  # OBSERVATION 4 [temperature, speed, pollution]\n",
    "\n",
    "sequence_b = [day_1b, day_2b, day_3b, day_4b]\n",
    "\n",
    "y_b = [8.71]"
   ]
  },
  {
   "cell_type": "code",
   "execution_count": 63,
   "id": "5a9f7c0c",
   "metadata": {},
   "outputs": [
    {
     "data": {
      "text/html": [
       "<div>\n",
       "<style scoped>\n",
       "    .dataframe tbody tr th:only-of-type {\n",
       "        vertical-align: middle;\n",
       "    }\n",
       "\n",
       "    .dataframe tbody tr th {\n",
       "        vertical-align: top;\n",
       "    }\n",
       "\n",
       "    .dataframe thead th {\n",
       "        text-align: right;\n",
       "    }\n",
       "</style>\n",
       "<table border=\"1\" class=\"dataframe\">\n",
       "  <thead>\n",
       "    <tr style=\"text-align: right;\">\n",
       "      <th></th>\n",
       "      <th>Country</th>\n",
       "      <th>fertility</th>\n",
       "      <th>avg_years_of_schooling</th>\n",
       "    </tr>\n",
       "    <tr>\n",
       "      <th>Year</th>\n",
       "      <th></th>\n",
       "      <th></th>\n",
       "      <th></th>\n",
       "    </tr>\n",
       "  </thead>\n",
       "  <tbody>\n",
       "    <tr>\n",
       "      <th>1960</th>\n",
       "      <td>Germany</td>\n",
       "      <td>2.37</td>\n",
       "      <td>7.53</td>\n",
       "    </tr>\n",
       "    <tr>\n",
       "      <th>1960</th>\n",
       "      <td>Thailand</td>\n",
       "      <td>6.15</td>\n",
       "      <td>2.07</td>\n",
       "    </tr>\n",
       "    <tr>\n",
       "      <th>1960</th>\n",
       "      <td>Kazakhstan</td>\n",
       "      <td>4.56</td>\n",
       "      <td>3.07</td>\n",
       "    </tr>\n",
       "    <tr>\n",
       "      <th>1960</th>\n",
       "      <td>Vietnam</td>\n",
       "      <td>6.35</td>\n",
       "      <td>2.01</td>\n",
       "    </tr>\n",
       "    <tr>\n",
       "      <th>1960</th>\n",
       "      <td>Kenya</td>\n",
       "      <td>7.95</td>\n",
       "      <td>1.21</td>\n",
       "    </tr>\n",
       "  </tbody>\n",
       "</table>\n",
       "</div>"
      ],
      "text/plain": [
       "         Country  fertility  avg_years_of_schooling\n",
       "Year                                               \n",
       "1960     Germany       2.37                    7.53\n",
       "1960    Thailand       6.15                    2.07\n",
       "1960  Kazakhstan       4.56                    3.07\n",
       "1960     Vietnam       6.35                    2.01\n",
       "1960       Kenya       7.95                    1.21"
      ]
     },
     "execution_count": 63,
     "metadata": {},
     "output_type": "execute_result"
    }
   ],
   "source": [
    "df.head()"
   ]
  },
  {
   "cell_type": "code",
   "execution_count": 60,
   "id": "c2667124",
   "metadata": {},
   "outputs": [],
   "source": [
    "X = np.array([sequence_a, sequence_b]).astype(np.float32)\n",
    "y = np.expand_dims(np.array([y_a, y_b]).astype(np.float32), axis=-1)"
   ]
  },
  {
   "cell_type": "code",
   "execution_count": 61,
   "id": "99dcf737",
   "metadata": {},
   "outputs": [
    {
     "data": {
      "text/plain": [
       "array([[2.37, 2.5 , 2.03, ..., 1.5 , 1.6 , 1.57],\n",
       "       [6.15, 6.13, 5.6 , ..., 1.54, 1.54, 1.53],\n",
       "       [4.56, 4.05, 3.61, ..., 2.74, 2.77, 2.75],\n",
       "       ...,\n",
       "       [6.49, 5.77, 4.91, ..., 1.68, 1.66, 1.64],\n",
       "       [2.23, 2.25, 2.4 , ..., 1.33, 1.38, 1.35],\n",
       "       [4.03, 3.54, 3.16, ..., 1.99, 1.87, 1.81]])"
      ]
     },
     "execution_count": 61,
     "metadata": {},
     "output_type": "execute_result"
    }
   ],
   "source": [
    "fert"
   ]
  },
  {
   "cell_type": "code",
   "execution_count": 62,
   "id": "2627ea29",
   "metadata": {},
   "outputs": [
    {
     "data": {
      "text/plain": [
       "(2, 4, 2)"
      ]
     },
     "execution_count": 62,
     "metadata": {},
     "output_type": "execute_result"
    }
   ],
   "source": [
    "X.shape"
   ]
  },
  {
   "cell_type": "code",
   "execution_count": 33,
   "id": "aaf2f3da",
   "metadata": {},
   "outputs": [
    {
     "data": {
      "text/plain": [
       "(2, 1, 1)"
      ]
     },
     "execution_count": 33,
     "metadata": {},
     "output_type": "execute_result"
    }
   ],
   "source": [
    "y.shape"
   ]
  },
  {
   "cell_type": "code",
   "execution_count": 35,
   "id": "91e4a54a",
   "metadata": {
    "collapsed": true
   },
   "outputs": [
    {
     "name": "stdout",
     "output_type": "stream",
     "text": [
      "Epoch 1/10\n",
      "1/1 [==============================] - 1s 605ms/step - loss: 8.3856\n",
      "Epoch 2/10\n",
      "1/1 [==============================] - 0s 3ms/step - loss: 7.9014\n",
      "Epoch 3/10\n",
      "1/1 [==============================] - 0s 3ms/step - loss: 7.5031\n",
      "Epoch 4/10\n",
      "1/1 [==============================] - 0s 3ms/step - loss: 7.1220\n",
      "Epoch 5/10\n",
      "1/1 [==============================] - 0s 3ms/step - loss: 6.7556\n",
      "Epoch 6/10\n",
      "1/1 [==============================] - 0s 3ms/step - loss: 6.4441\n",
      "Epoch 7/10\n",
      "1/1 [==============================] - 0s 4ms/step - loss: 6.1568\n",
      "Epoch 8/10\n",
      "1/1 [==============================] - 0s 3ms/step - loss: 5.8791\n",
      "Epoch 9/10\n",
      "1/1 [==============================] - 0s 2ms/step - loss: 5.6107\n",
      "Epoch 10/10\n",
      "1/1 [==============================] - 0s 4ms/step - loss: 5.3512\n"
     ]
    },
    {
     "data": {
      "text/plain": [
       "<keras.callbacks.History at 0x28e6299f0>"
      ]
     },
     "execution_count": 35,
     "metadata": {},
     "output_type": "execute_result"
    }
   ],
   "source": [
    "X_train, X_test, y_train, y_test = train_test_split(X, y, test_size=0.20)\n",
    "\n",
    "es = EarlyStopping(patience=5)\n",
    "\n",
    "model = Sequential()\n",
    "model.add(SimpleRNN(units=20, activation='tanh'))\n",
    "model.add(Dense(10, activation=\"relu\"))\n",
    "model.add(Dense(1, activation=\"linear\"))\n",
    "\n",
    "model.compile(loss='mse', \n",
    "              optimizer='adam') #change to adam\n",
    "\n",
    "model.fit(X_train, y_train,\n",
    "          epochs=10, \n",
    "          verbose=1)"
   ]
  },
  {
   "cell_type": "code",
   "execution_count": null,
   "id": "b0c2694b",
   "metadata": {},
   "outputs": [],
   "source": []
  },
  {
   "cell_type": "code",
   "execution_count": null,
   "id": "b1c4f833",
   "metadata": {},
   "outputs": [],
   "source": []
  },
  {
   "cell_type": "code",
   "execution_count": null,
   "id": "d90ac402",
   "metadata": {},
   "outputs": [],
   "source": []
  },
  {
   "cell_type": "code",
   "execution_count": null,
   "id": "063238da",
   "metadata": {},
   "outputs": [],
   "source": []
  },
  {
   "cell_type": "code",
   "execution_count": null,
   "id": "dd320a87",
   "metadata": {},
   "outputs": [],
   "source": []
  },
  {
   "cell_type": "code",
   "execution_count": null,
   "id": "95ed0872",
   "metadata": {},
   "outputs": [],
   "source": []
  },
  {
   "cell_type": "code",
   "execution_count": null,
   "id": "699285a8",
   "metadata": {},
   "outputs": [],
   "source": []
  },
  {
   "cell_type": "code",
   "execution_count": null,
   "id": "ac6e28ed",
   "metadata": {},
   "outputs": [],
   "source": []
  },
  {
   "cell_type": "code",
   "execution_count": null,
   "id": "feefd2bc",
   "metadata": {},
   "outputs": [],
   "source": []
  },
  {
   "cell_type": "code",
   "execution_count": null,
   "id": "f8b48786",
   "metadata": {},
   "outputs": [],
   "source": []
  },
  {
   "cell_type": "code",
   "execution_count": null,
   "id": "d2cd2e0b",
   "metadata": {},
   "outputs": [],
   "source": []
  },
  {
   "cell_type": "code",
   "execution_count": null,
   "id": "ccb6e682",
   "metadata": {},
   "outputs": [],
   "source": []
  },
  {
   "cell_type": "code",
   "execution_count": null,
   "id": "b85685b4",
   "metadata": {},
   "outputs": [],
   "source": []
  },
  {
   "cell_type": "code",
   "execution_count": null,
   "id": "d4a9ecc5",
   "metadata": {},
   "outputs": [],
   "source": []
  },
  {
   "cell_type": "code",
   "execution_count": null,
   "id": "64e93aa9",
   "metadata": {},
   "outputs": [],
   "source": []
  },
  {
   "cell_type": "code",
   "execution_count": null,
   "id": "586740e6",
   "metadata": {},
   "outputs": [],
   "source": []
  },
  {
   "cell_type": "code",
   "execution_count": 73,
   "id": "b66d400f",
   "metadata": {},
   "outputs": [
    {
     "data": {
      "text/html": [
       "<div>\n",
       "<style scoped>\n",
       "    .dataframe tbody tr th:only-of-type {\n",
       "        vertical-align: middle;\n",
       "    }\n",
       "\n",
       "    .dataframe tbody tr th {\n",
       "        vertical-align: top;\n",
       "    }\n",
       "\n",
       "    .dataframe thead th {\n",
       "        text-align: right;\n",
       "    }\n",
       "</style>\n",
       "<table border=\"1\" class=\"dataframe\">\n",
       "  <thead>\n",
       "    <tr style=\"text-align: right;\">\n",
       "      <th></th>\n",
       "      <th>Country</th>\n",
       "      <th>fertility</th>\n",
       "      <th>avg_years_of_schooling</th>\n",
       "    </tr>\n",
       "    <tr>\n",
       "      <th>Year</th>\n",
       "      <th></th>\n",
       "      <th></th>\n",
       "      <th></th>\n",
       "    </tr>\n",
       "  </thead>\n",
       "  <tbody>\n",
       "    <tr>\n",
       "      <th>1960</th>\n",
       "      <td>Germany</td>\n",
       "      <td>2.37</td>\n",
       "      <td>7.53</td>\n",
       "    </tr>\n",
       "    <tr>\n",
       "      <th>1960</th>\n",
       "      <td>Thailand</td>\n",
       "      <td>6.15</td>\n",
       "      <td>2.07</td>\n",
       "    </tr>\n",
       "    <tr>\n",
       "      <th>1960</th>\n",
       "      <td>Kazakhstan</td>\n",
       "      <td>4.56</td>\n",
       "      <td>3.07</td>\n",
       "    </tr>\n",
       "    <tr>\n",
       "      <th>1960</th>\n",
       "      <td>Vietnam</td>\n",
       "      <td>6.35</td>\n",
       "      <td>2.01</td>\n",
       "    </tr>\n",
       "    <tr>\n",
       "      <th>1960</th>\n",
       "      <td>Kenya</td>\n",
       "      <td>7.95</td>\n",
       "      <td>1.21</td>\n",
       "    </tr>\n",
       "  </tbody>\n",
       "</table>\n",
       "</div>"
      ],
      "text/plain": [
       "         Country  fertility  avg_years_of_schooling\n",
       "Year                                               \n",
       "1960     Germany       2.37                    7.53\n",
       "1960    Thailand       6.15                    2.07\n",
       "1960  Kazakhstan       4.56                    3.07\n",
       "1960     Vietnam       6.35                    2.01\n",
       "1960       Kenya       7.95                    1.21"
      ]
     },
     "execution_count": 73,
     "metadata": {},
     "output_type": "execute_result"
    }
   ],
   "source": [
    "df = preproc(data)\n",
    "df.head()"
   ]
  },
  {
   "cell_type": "code",
   "execution_count": 104,
   "id": "05a81f5b",
   "metadata": {},
   "outputs": [],
   "source": [
    "X, y = list_X_y(data)"
   ]
  },
  {
   "cell_type": "code",
   "execution_count": 105,
   "id": "edcbd5b2",
   "metadata": {
    "scrolled": true
   },
   "outputs": [
    {
     "data": {
      "text/plain": [
       "array([[6.52, 0.35],\n",
       "       [6.79, 0.42],\n",
       "       [7.08, 0.48],\n",
       "       [7.28, 1.02],\n",
       "       [7.22, 1.72],\n",
       "       [6.81, 2.37],\n",
       "       [6.19, 2.99],\n",
       "       [6.07, 3.1 ],\n",
       "       [5.96, 3.2 ],\n",
       "       [5.86, 3.3 ],\n",
       "       [5.77, 3.4 ],\n",
       "       [5.7 , 3.5 ],\n",
       "       [5.63, 3.6 ],\n",
       "       [5.57, 3.7 ],\n",
       "       [5.52, 3.8 ],\n",
       "       [5.47, 3.9 ],\n",
       "       [5.42, 4.  ],\n",
       "       [5.37, 4.  ],\n",
       "       [5.33, 4.1 ],\n",
       "       [5.28, 4.1 ],\n",
       "       [5.23, 4.2 ],\n",
       "       [5.18, 4.2 ],\n",
       "       [5.12, 4.3 ],\n",
       "       [5.06, 4.3 ],\n",
       "       [5.  , 4.3 ],\n",
       "       [4.94, 4.3 ],\n",
       "       [4.87, 4.3 ],\n",
       "       [4.8 , 4.4 ],\n",
       "       [4.73, 4.4 ],\n",
       "       [4.66, 4.5 ],\n",
       "       [4.59, 4.7 ],\n",
       "       [4.52, 4.7 ],\n",
       "       [4.45, 4.8 ]])"
      ]
     },
     "execution_count": 105,
     "metadata": {},
     "output_type": "execute_result"
    }
   ],
   "source": [
    "np.array(X[10])"
   ]
  },
  {
   "cell_type": "code",
   "execution_count": 78,
   "id": "ee77c0db",
   "metadata": {},
   "outputs": [
    {
     "data": {
      "text/plain": [
       "[[6.06, 2.49], [5.7, 2.77], [4.97, 3.09], [4.42, 2.82]]"
      ]
     },
     "execution_count": 78,
     "metadata": {},
     "output_type": "execute_result"
    }
   ],
   "source": [
    "sequence_a"
   ]
  },
  {
   "cell_type": "code",
   "execution_count": 102,
   "id": "122a82e7",
   "metadata": {
    "scrolled": true
   },
   "outputs": [
    {
     "data": {
      "text/html": [
       "<div>\n",
       "<style scoped>\n",
       "    .dataframe tbody tr th:only-of-type {\n",
       "        vertical-align: middle;\n",
       "    }\n",
       "\n",
       "    .dataframe tbody tr th {\n",
       "        vertical-align: top;\n",
       "    }\n",
       "\n",
       "    .dataframe thead th {\n",
       "        text-align: right;\n",
       "    }\n",
       "</style>\n",
       "<table border=\"1\" class=\"dataframe\">\n",
       "  <thead>\n",
       "    <tr style=\"text-align: right;\">\n",
       "      <th></th>\n",
       "      <th>fertility</th>\n",
       "      <th>avg_years_of_schooling</th>\n",
       "    </tr>\n",
       "    <tr>\n",
       "      <th>Year</th>\n",
       "      <th></th>\n",
       "      <th></th>\n",
       "    </tr>\n",
       "  </thead>\n",
       "  <tbody>\n",
       "    <tr>\n",
       "      <th>1960</th>\n",
       "      <td>2.37</td>\n",
       "      <td>7.53</td>\n",
       "    </tr>\n",
       "    <tr>\n",
       "      <th>1965</th>\n",
       "      <td>2.50</td>\n",
       "      <td>7.68</td>\n",
       "    </tr>\n",
       "    <tr>\n",
       "      <th>1970</th>\n",
       "      <td>2.03</td>\n",
       "      <td>7.71</td>\n",
       "    </tr>\n",
       "    <tr>\n",
       "      <th>1975</th>\n",
       "      <td>1.45</td>\n",
       "      <td>7.58</td>\n",
       "    </tr>\n",
       "    <tr>\n",
       "      <th>1980</th>\n",
       "      <td>1.44</td>\n",
       "      <td>7.63</td>\n",
       "    </tr>\n",
       "    <tr>\n",
       "      <th>1985</th>\n",
       "      <td>1.37</td>\n",
       "      <td>7.55</td>\n",
       "    </tr>\n",
       "    <tr>\n",
       "      <th>1990</th>\n",
       "      <td>1.45</td>\n",
       "      <td>8.77</td>\n",
       "    </tr>\n",
       "    <tr>\n",
       "      <th>1991</th>\n",
       "      <td>1.33</td>\n",
       "      <td>8.90</td>\n",
       "    </tr>\n",
       "    <tr>\n",
       "      <th>1992</th>\n",
       "      <td>1.29</td>\n",
       "      <td>9.10</td>\n",
       "    </tr>\n",
       "    <tr>\n",
       "      <th>1993</th>\n",
       "      <td>1.28</td>\n",
       "      <td>9.30</td>\n",
       "    </tr>\n",
       "    <tr>\n",
       "      <th>1994</th>\n",
       "      <td>1.24</td>\n",
       "      <td>9.50</td>\n",
       "    </tr>\n",
       "    <tr>\n",
       "      <th>1995</th>\n",
       "      <td>1.25</td>\n",
       "      <td>9.70</td>\n",
       "    </tr>\n",
       "    <tr>\n",
       "      <th>1996</th>\n",
       "      <td>1.30</td>\n",
       "      <td>9.80</td>\n",
       "    </tr>\n",
       "    <tr>\n",
       "      <th>1997</th>\n",
       "      <td>1.35</td>\n",
       "      <td>10.00</td>\n",
       "    </tr>\n",
       "    <tr>\n",
       "      <th>1998</th>\n",
       "      <td>1.36</td>\n",
       "      <td>10.20</td>\n",
       "    </tr>\n",
       "    <tr>\n",
       "      <th>1999</th>\n",
       "      <td>1.36</td>\n",
       "      <td>10.30</td>\n",
       "    </tr>\n",
       "    <tr>\n",
       "      <th>2000</th>\n",
       "      <td>1.38</td>\n",
       "      <td>11.20</td>\n",
       "    </tr>\n",
       "    <tr>\n",
       "      <th>2001</th>\n",
       "      <td>1.35</td>\n",
       "      <td>11.70</td>\n",
       "    </tr>\n",
       "    <tr>\n",
       "      <th>2002</th>\n",
       "      <td>1.34</td>\n",
       "      <td>12.10</td>\n",
       "    </tr>\n",
       "    <tr>\n",
       "      <th>2003</th>\n",
       "      <td>1.34</td>\n",
       "      <td>12.50</td>\n",
       "    </tr>\n",
       "    <tr>\n",
       "      <th>2004</th>\n",
       "      <td>1.36</td>\n",
       "      <td>12.90</td>\n",
       "    </tr>\n",
       "    <tr>\n",
       "      <th>2005</th>\n",
       "      <td>1.34</td>\n",
       "      <td>13.30</td>\n",
       "    </tr>\n",
       "    <tr>\n",
       "      <th>2006</th>\n",
       "      <td>1.33</td>\n",
       "      <td>13.60</td>\n",
       "    </tr>\n",
       "    <tr>\n",
       "      <th>2007</th>\n",
       "      <td>1.37</td>\n",
       "      <td>13.70</td>\n",
       "    </tr>\n",
       "    <tr>\n",
       "      <th>2008</th>\n",
       "      <td>1.38</td>\n",
       "      <td>13.70</td>\n",
       "    </tr>\n",
       "    <tr>\n",
       "      <th>2009</th>\n",
       "      <td>1.36</td>\n",
       "      <td>13.80</td>\n",
       "    </tr>\n",
       "    <tr>\n",
       "      <th>2010</th>\n",
       "      <td>1.39</td>\n",
       "      <td>13.80</td>\n",
       "    </tr>\n",
       "    <tr>\n",
       "      <th>2011</th>\n",
       "      <td>1.39</td>\n",
       "      <td>13.90</td>\n",
       "    </tr>\n",
       "    <tr>\n",
       "      <th>2012</th>\n",
       "      <td>1.41</td>\n",
       "      <td>14.00</td>\n",
       "    </tr>\n",
       "    <tr>\n",
       "      <th>2013</th>\n",
       "      <td>1.42</td>\n",
       "      <td>14.00</td>\n",
       "    </tr>\n",
       "    <tr>\n",
       "      <th>2014</th>\n",
       "      <td>1.47</td>\n",
       "      <td>14.00</td>\n",
       "    </tr>\n",
       "    <tr>\n",
       "      <th>2015</th>\n",
       "      <td>1.50</td>\n",
       "      <td>14.10</td>\n",
       "    </tr>\n",
       "    <tr>\n",
       "      <th>2016</th>\n",
       "      <td>1.60</td>\n",
       "      <td>14.10</td>\n",
       "    </tr>\n",
       "  </tbody>\n",
       "</table>\n",
       "</div>"
      ],
      "text/plain": [
       "      fertility  avg_years_of_schooling\n",
       "Year                                   \n",
       "1960       2.37                    7.53\n",
       "1965       2.50                    7.68\n",
       "1970       2.03                    7.71\n",
       "1975       1.45                    7.58\n",
       "1980       1.44                    7.63\n",
       "1985       1.37                    7.55\n",
       "1990       1.45                    8.77\n",
       "1991       1.33                    8.90\n",
       "1992       1.29                    9.10\n",
       "1993       1.28                    9.30\n",
       "1994       1.24                    9.50\n",
       "1995       1.25                    9.70\n",
       "1996       1.30                    9.80\n",
       "1997       1.35                   10.00\n",
       "1998       1.36                   10.20\n",
       "1999       1.36                   10.30\n",
       "2000       1.38                   11.20\n",
       "2001       1.35                   11.70\n",
       "2002       1.34                   12.10\n",
       "2003       1.34                   12.50\n",
       "2004       1.36                   12.90\n",
       "2005       1.34                   13.30\n",
       "2006       1.33                   13.60\n",
       "2007       1.37                   13.70\n",
       "2008       1.38                   13.70\n",
       "2009       1.36                   13.80\n",
       "2010       1.39                   13.80\n",
       "2011       1.39                   13.90\n",
       "2012       1.41                   14.00\n",
       "2013       1.42                   14.00\n",
       "2014       1.47                   14.00\n",
       "2015       1.50                   14.10\n",
       "2016       1.60                   14.10"
      ]
     },
     "execution_count": 102,
     "metadata": {},
     "output_type": "execute_result"
    }
   ],
   "source": [
    "X[0].head(33)"
   ]
  },
  {
   "cell_type": "code",
   "execution_count": 106,
   "id": "5634f979",
   "metadata": {},
   "outputs": [],
   "source": [
    "X_new = np.array([np.array(X[0]), np.array(X[1]), np.array(X[2]), np.array(X[3]), np.array(X[4])]).astype(np.float32)"
   ]
  },
  {
   "cell_type": "code",
   "execution_count": 107,
   "id": "dc97e764",
   "metadata": {},
   "outputs": [
    {
     "data": {
      "text/plain": [
       "(5, 33, 2)"
      ]
     },
     "execution_count": 107,
     "metadata": {},
     "output_type": "execute_result"
    }
   ],
   "source": [
    "X_new.shape"
   ]
  },
  {
   "cell_type": "code",
   "execution_count": 111,
   "id": "5a0d8996",
   "metadata": {},
   "outputs": [
    {
     "data": {
      "text/plain": [
       "(132, 1)"
      ]
     },
     "execution_count": 111,
     "metadata": {},
     "output_type": "execute_result"
    }
   ],
   "source": [
    "np.array(y).shape"
   ]
  },
  {
   "cell_type": "code",
   "execution_count": 112,
   "id": "4f4615e6",
   "metadata": {},
   "outputs": [],
   "source": [
    "y_new = np.expand_dims(\n",
    "    np.array([np.array(y[0]), np.array(y[1]), np.array(y[2]), \n",
    "              np.array(y[3]), np.array(y[4])]).astype(np.float32), axis=-1)"
   ]
  },
  {
   "cell_type": "code",
   "execution_count": 113,
   "id": "bb31215c",
   "metadata": {},
   "outputs": [
    {
     "data": {
      "text/plain": [
       "(5, 1, 1)"
      ]
     },
     "execution_count": 113,
     "metadata": {},
     "output_type": "execute_result"
    }
   ],
   "source": [
    "y_new.shape"
   ]
  },
  {
   "cell_type": "code",
   "execution_count": 115,
   "id": "1a979a98",
   "metadata": {},
   "outputs": [
    {
     "name": "stdout",
     "output_type": "stream",
     "text": [
      "Epoch 1/10\n",
      "1/1 [==============================] - 1s 599ms/step - loss: 119.8817\n",
      "Epoch 2/10\n",
      "1/1 [==============================] - 0s 6ms/step - loss: 119.0840\n",
      "Epoch 3/10\n",
      "1/1 [==============================] - 0s 6ms/step - loss: 118.2848\n",
      "Epoch 4/10\n",
      "1/1 [==============================] - 0s 4ms/step - loss: 117.4835\n",
      "Epoch 5/10\n",
      "1/1 [==============================] - 0s 4ms/step - loss: 116.6798\n",
      "Epoch 6/10\n",
      "1/1 [==============================] - 0s 4ms/step - loss: 115.8164\n",
      "Epoch 7/10\n",
      "1/1 [==============================] - 0s 5ms/step - loss: 114.9221\n",
      "Epoch 8/10\n",
      "1/1 [==============================] - 0s 5ms/step - loss: 114.0195\n",
      "Epoch 9/10\n",
      "1/1 [==============================] - 0s 4ms/step - loss: 113.1092\n",
      "Epoch 10/10\n",
      "1/1 [==============================] - 0s 8ms/step - loss: 112.1915\n"
     ]
    },
    {
     "data": {
      "text/plain": [
       "<keras.callbacks.History at 0x160547fd0>"
      ]
     },
     "execution_count": 115,
     "metadata": {},
     "output_type": "execute_result"
    }
   ],
   "source": [
    "#X_train, X_test, y_train, y_test = train_test_split(X, y, test_size=0.20)\n",
    "\n",
    "es = EarlyStopping(patience=5)\n",
    "\n",
    "model = Sequential()\n",
    "model.add(SimpleRNN(units=20, activation='tanh'))\n",
    "model.add(Dense(10, activation=\"relu\"))\n",
    "model.add(Dense(1, activation=\"linear\"))\n",
    "\n",
    "model.compile(loss='mse', \n",
    "              optimizer='adam') #change to adam\n",
    "\n",
    "model.fit(X_new, y_new,\n",
    "          epochs=10, \n",
    "          verbose=1)"
   ]
  },
  {
   "cell_type": "code",
   "execution_count": null,
   "id": "7fd0a986",
   "metadata": {},
   "outputs": [],
   "source": []
  }
 ],
 "metadata": {
  "kernelspec": {
   "display_name": "Python 3 (ipykernel)",
   "language": "python",
   "name": "python3"
  },
  "language_info": {
   "codemirror_mode": {
    "name": "ipython",
    "version": 3
   },
   "file_extension": ".py",
   "mimetype": "text/x-python",
   "name": "python",
   "nbconvert_exporter": "python",
   "pygments_lexer": "ipython3",
   "version": "3.10.6"
  },
  "toc": {
   "base_numbering": 1,
   "nav_menu": {},
   "number_sections": true,
   "sideBar": true,
   "skip_h1_title": false,
   "title_cell": "Table of Contents",
   "title_sidebar": "Contents",
   "toc_cell": false,
   "toc_position": {},
   "toc_section_display": true,
   "toc_window_display": false
  }
 },
 "nbformat": 4,
 "nbformat_minor": 5
}
