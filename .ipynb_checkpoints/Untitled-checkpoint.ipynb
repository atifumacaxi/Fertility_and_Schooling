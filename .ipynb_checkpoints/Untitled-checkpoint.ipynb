{
 "cells": [
  {
   "cell_type": "code",
   "execution_count": 1,
   "id": "cd0ab87a-5e1a-4951-8cd5-a003c8800e70",
   "metadata": {},
   "outputs": [],
   "source": [
    "#Importing libraries \n",
    "import pandas as pd\n",
    "from matplotlib import pyplot as plt\n",
    "import seaborn as sns\n",
    "import numpy as np\n",
    "from sklearn.model_selection import train_test_split\n",
    "from tensorflow.keras import Sequential, layers\n",
    "from tensorflow.keras.layers import Dense, SimpleRNN\n",
    "from tensorflow.keras.callbacks import EarlyStopping"
   ]
  },
  {
   "cell_type": "code",
   "execution_count": 72,
   "id": "c523ac13",
   "metadata": {},
   "outputs": [
    {
     "data": {
      "text/html": [
       "<div>\n",
       "<style scoped>\n",
       "    .dataframe tbody tr th:only-of-type {\n",
       "        vertical-align: middle;\n",
       "    }\n",
       "\n",
       "    .dataframe tbody tr th {\n",
       "        vertical-align: top;\n",
       "    }\n",
       "\n",
       "    .dataframe thead th {\n",
       "        text-align: right;\n",
       "    }\n",
       "</style>\n",
       "<table border=\"1\" class=\"dataframe\">\n",
       "  <thead>\n",
       "    <tr style=\"text-align: right;\">\n",
       "      <th></th>\n",
       "      <th>Unnamed: 0</th>\n",
       "      <th>Country</th>\n",
       "      <th>Year</th>\n",
       "      <th>fertility</th>\n",
       "      <th>Code</th>\n",
       "      <th>avg_years_of_schooling</th>\n",
       "    </tr>\n",
       "  </thead>\n",
       "  <tbody>\n",
       "    <tr>\n",
       "      <th>0</th>\n",
       "      <td>0</td>\n",
       "      <td>Afghanistan</td>\n",
       "      <td>2007</td>\n",
       "      <td>6.56</td>\n",
       "      <td>AFG</td>\n",
       "      <td>2.9</td>\n",
       "    </tr>\n",
       "    <tr>\n",
       "      <th>1</th>\n",
       "      <td>1</td>\n",
       "      <td>Afghanistan</td>\n",
       "      <td>1995</td>\n",
       "      <td>7.61</td>\n",
       "      <td>AFG</td>\n",
       "      <td>1.9</td>\n",
       "    </tr>\n",
       "    <tr>\n",
       "      <th>2</th>\n",
       "      <td>2</td>\n",
       "      <td>Afghanistan</td>\n",
       "      <td>2008</td>\n",
       "      <td>6.37</td>\n",
       "      <td>AFG</td>\n",
       "      <td>3.0</td>\n",
       "    </tr>\n",
       "    <tr>\n",
       "      <th>3</th>\n",
       "      <td>3</td>\n",
       "      <td>Afghanistan</td>\n",
       "      <td>2017</td>\n",
       "      <td>4.63</td>\n",
       "      <td>AFG</td>\n",
       "      <td>3.8</td>\n",
       "    </tr>\n",
       "    <tr>\n",
       "      <th>4</th>\n",
       "      <td>4</td>\n",
       "      <td>Afghanistan</td>\n",
       "      <td>1994</td>\n",
       "      <td>7.57</td>\n",
       "      <td>AFG</td>\n",
       "      <td>1.8</td>\n",
       "    </tr>\n",
       "  </tbody>\n",
       "</table>\n",
       "</div>"
      ],
      "text/plain": [
       "   Unnamed: 0      Country  Year  fertility Code  avg_years_of_schooling\n",
       "0           0  Afghanistan  2007       6.56  AFG                     2.9\n",
       "1           1  Afghanistan  1995       7.61  AFG                     1.9\n",
       "2           2  Afghanistan  2008       6.37  AFG                     3.0\n",
       "3           3  Afghanistan  2017       4.63  AFG                     3.8\n",
       "4           4  Afghanistan  1994       7.57  AFG                     1.8"
      ]
     },
     "execution_count": 72,
     "metadata": {},
     "output_type": "execute_result"
    }
   ],
   "source": [
    "data = pd.read_csv('./raw_data/treated.csv')\n",
    "data.head()"
   ]
  },
  {
   "cell_type": "code",
   "execution_count": 3,
   "id": "76c29a11",
   "metadata": {},
   "outputs": [
    {
     "data": {
      "text/html": [
       "<div>\n",
       "<style scoped>\n",
       "    .dataframe tbody tr th:only-of-type {\n",
       "        vertical-align: middle;\n",
       "    }\n",
       "\n",
       "    .dataframe tbody tr th {\n",
       "        vertical-align: top;\n",
       "    }\n",
       "\n",
       "    .dataframe thead th {\n",
       "        text-align: right;\n",
       "    }\n",
       "</style>\n",
       "<table border=\"1\" class=\"dataframe\">\n",
       "  <thead>\n",
       "    <tr style=\"text-align: right;\">\n",
       "      <th></th>\n",
       "      <th>Unnamed: 0</th>\n",
       "      <th>Country</th>\n",
       "      <th>Year</th>\n",
       "      <th>fertility</th>\n",
       "      <th>Code</th>\n",
       "      <th>avg_years_of_schooling</th>\n",
       "    </tr>\n",
       "  </thead>\n",
       "  <tbody>\n",
       "    <tr>\n",
       "      <th>0</th>\n",
       "      <td>0</td>\n",
       "      <td>Afghanistan</td>\n",
       "      <td>2007</td>\n",
       "      <td>6.56</td>\n",
       "      <td>AFG</td>\n",
       "      <td>2.9</td>\n",
       "    </tr>\n",
       "    <tr>\n",
       "      <th>1</th>\n",
       "      <td>1</td>\n",
       "      <td>Afghanistan</td>\n",
       "      <td>1995</td>\n",
       "      <td>7.61</td>\n",
       "      <td>AFG</td>\n",
       "      <td>1.9</td>\n",
       "    </tr>\n",
       "    <tr>\n",
       "      <th>2</th>\n",
       "      <td>2</td>\n",
       "      <td>Afghanistan</td>\n",
       "      <td>2008</td>\n",
       "      <td>6.37</td>\n",
       "      <td>AFG</td>\n",
       "      <td>3.0</td>\n",
       "    </tr>\n",
       "    <tr>\n",
       "      <th>3</th>\n",
       "      <td>3</td>\n",
       "      <td>Afghanistan</td>\n",
       "      <td>2017</td>\n",
       "      <td>4.63</td>\n",
       "      <td>AFG</td>\n",
       "      <td>3.8</td>\n",
       "    </tr>\n",
       "    <tr>\n",
       "      <th>4</th>\n",
       "      <td>4</td>\n",
       "      <td>Afghanistan</td>\n",
       "      <td>1994</td>\n",
       "      <td>7.57</td>\n",
       "      <td>AFG</td>\n",
       "      <td>1.8</td>\n",
       "    </tr>\n",
       "    <tr>\n",
       "      <th>...</th>\n",
       "      <td>...</td>\n",
       "      <td>...</td>\n",
       "      <td>...</td>\n",
       "      <td>...</td>\n",
       "      <td>...</td>\n",
       "      <td>...</td>\n",
       "    </tr>\n",
       "    <tr>\n",
       "      <th>5121</th>\n",
       "      <td>5121</td>\n",
       "      <td>Zimbabwe</td>\n",
       "      <td>2010</td>\n",
       "      <td>4.03</td>\n",
       "      <td>ZWE</td>\n",
       "      <td>7.3</td>\n",
       "    </tr>\n",
       "    <tr>\n",
       "      <th>5122</th>\n",
       "      <td>5122</td>\n",
       "      <td>Zimbabwe</td>\n",
       "      <td>2000</td>\n",
       "      <td>3.75</td>\n",
       "      <td>ZWE</td>\n",
       "      <td>6.5</td>\n",
       "    </tr>\n",
       "    <tr>\n",
       "      <th>5123</th>\n",
       "      <td>5123</td>\n",
       "      <td>Zimbabwe</td>\n",
       "      <td>2017</td>\n",
       "      <td>3.71</td>\n",
       "      <td>ZWE</td>\n",
       "      <td>8.2</td>\n",
       "    </tr>\n",
       "    <tr>\n",
       "      <th>5124</th>\n",
       "      <td>5124</td>\n",
       "      <td>Zimbabwe</td>\n",
       "      <td>2002</td>\n",
       "      <td>3.72</td>\n",
       "      <td>ZWE</td>\n",
       "      <td>6.9</td>\n",
       "    </tr>\n",
       "    <tr>\n",
       "      <th>5125</th>\n",
       "      <td>5125</td>\n",
       "      <td>Zimbabwe</td>\n",
       "      <td>2001</td>\n",
       "      <td>3.73</td>\n",
       "      <td>ZWE</td>\n",
       "      <td>6.7</td>\n",
       "    </tr>\n",
       "  </tbody>\n",
       "</table>\n",
       "<p>5126 rows × 6 columns</p>\n",
       "</div>"
      ],
      "text/plain": [
       "      Unnamed: 0      Country  Year  fertility Code  avg_years_of_schooling\n",
       "0              0  Afghanistan  2007       6.56  AFG                     2.9\n",
       "1              1  Afghanistan  1995       7.61  AFG                     1.9\n",
       "2              2  Afghanistan  2008       6.37  AFG                     3.0\n",
       "3              3  Afghanistan  2017       4.63  AFG                     3.8\n",
       "4              4  Afghanistan  1994       7.57  AFG                     1.8\n",
       "...          ...          ...   ...        ...  ...                     ...\n",
       "5121        5121     Zimbabwe  2010       4.03  ZWE                     7.3\n",
       "5122        5122     Zimbabwe  2000       3.75  ZWE                     6.5\n",
       "5123        5123     Zimbabwe  2017       3.71  ZWE                     8.2\n",
       "5124        5124     Zimbabwe  2002       3.72  ZWE                     6.9\n",
       "5125        5125     Zimbabwe  2001       3.73  ZWE                     6.7\n",
       "\n",
       "[5126 rows x 6 columns]"
      ]
     },
     "execution_count": 3,
     "metadata": {},
     "output_type": "execute_result"
    }
   ],
   "source": [
    "data"
   ]
  },
  {
   "cell_type": "code",
   "execution_count": 42,
   "id": "b2f97907",
   "metadata": {},
   "outputs": [],
   "source": [
    "def preproc(data:pd.DataFrame) -> pd.DataFrame:\n",
    "    '''\n",
    "    Fines adjustments on dataset\n",
    "    '''\n",
    "    #Removing columns\n",
    "    data.drop(columns=['Unnamed: 0', 'Code'], inplace=True)\n",
    "\n",
    "    #Ordering by year and set it as index\n",
    "    data.sort_values('Year', inplace=True)\n",
    "    data.set_index('Year', inplace=True)\n",
    "    \n",
    "    return data"
   ]
  },
  {
   "cell_type": "code",
   "execution_count": 43,
   "id": "37d29977",
   "metadata": {},
   "outputs": [
    {
     "data": {
      "text/html": [
       "<div>\n",
       "<style scoped>\n",
       "    .dataframe tbody tr th:only-of-type {\n",
       "        vertical-align: middle;\n",
       "    }\n",
       "\n",
       "    .dataframe tbody tr th {\n",
       "        vertical-align: top;\n",
       "    }\n",
       "\n",
       "    .dataframe thead th {\n",
       "        text-align: right;\n",
       "    }\n",
       "</style>\n",
       "<table border=\"1\" class=\"dataframe\">\n",
       "  <thead>\n",
       "    <tr style=\"text-align: right;\">\n",
       "      <th></th>\n",
       "      <th>Country</th>\n",
       "      <th>fertility</th>\n",
       "      <th>avg_years_of_schooling</th>\n",
       "    </tr>\n",
       "    <tr>\n",
       "      <th>Year</th>\n",
       "      <th></th>\n",
       "      <th></th>\n",
       "      <th></th>\n",
       "    </tr>\n",
       "  </thead>\n",
       "  <tbody>\n",
       "    <tr>\n",
       "      <th>1960</th>\n",
       "      <td>Germany</td>\n",
       "      <td>2.37</td>\n",
       "      <td>7.53</td>\n",
       "    </tr>\n",
       "    <tr>\n",
       "      <th>1960</th>\n",
       "      <td>Thailand</td>\n",
       "      <td>6.15</td>\n",
       "      <td>2.07</td>\n",
       "    </tr>\n",
       "    <tr>\n",
       "      <th>1960</th>\n",
       "      <td>Kazakhstan</td>\n",
       "      <td>4.56</td>\n",
       "      <td>3.07</td>\n",
       "    </tr>\n",
       "    <tr>\n",
       "      <th>1960</th>\n",
       "      <td>Vietnam</td>\n",
       "      <td>6.35</td>\n",
       "      <td>2.01</td>\n",
       "    </tr>\n",
       "    <tr>\n",
       "      <th>1960</th>\n",
       "      <td>Kenya</td>\n",
       "      <td>7.95</td>\n",
       "      <td>1.21</td>\n",
       "    </tr>\n",
       "  </tbody>\n",
       "</table>\n",
       "</div>"
      ],
      "text/plain": [
       "         Country  fertility  avg_years_of_schooling\n",
       "Year                                               \n",
       "1960     Germany       2.37                    7.53\n",
       "1960    Thailand       6.15                    2.07\n",
       "1960  Kazakhstan       4.56                    3.07\n",
       "1960     Vietnam       6.35                    2.01\n",
       "1960       Kenya       7.95                    1.21"
      ]
     },
     "execution_count": 43,
     "metadata": {},
     "output_type": "execute_result"
    }
   ],
   "source": [
    "df = preproc(data)\n",
    "df.head()"
   ]
  },
  {
   "cell_type": "code",
   "execution_count": 103,
   "id": "45150e36",
   "metadata": {},
   "outputs": [],
   "source": [
    "def list_X_y(data:pd.DataFrame) -> list:\n",
    "    '''\n",
    "    Given a countries dataset, this function returns\n",
    "    two list of dataframes, ie., lists containing one dataframe per country.\n",
    "    '''\n",
    "    countries = data.Country.unique().tolist()\n",
    "\n",
    "    X = []\n",
    "    y = []\n",
    "    \n",
    "    new_df = pd.DataFrame()\n",
    "\n",
    "    for country in countries:\n",
    "        new_df = data[data['Country']==country][['fertility', 'avg_years_of_schooling']]\n",
    "        \n",
    "        if new_df.shape[0] == 34:\n",
    "            X.append(new_df.head(33))\n",
    "            y.append(new_df['avg_years_of_schooling'].tail(1))\n",
    "        else:\n",
    "            pass\n",
    "         \n",
    "    return X, y"
   ]
  },
  {
   "cell_type": "code",
   "execution_count": 130,
   "id": "bfd8578e",
   "metadata": {},
   "outputs": [],
   "source": [
    "X, y = list_X_y(data)"
   ]
  },
  {
   "cell_type": "code",
   "execution_count": 131,
   "id": "dc2771fe",
   "metadata": {},
   "outputs": [],
   "source": [
    "#X_new = np.array([np.array(X[0]), np.array(X[1]), np.array(X[2]), \n",
    "#                  np.array(X[3]), np.array(X[4])]).astype(np.float32)"
   ]
  },
  {
   "cell_type": "code",
   "execution_count": 132,
   "id": "00ff50bd",
   "metadata": {},
   "outputs": [],
   "source": [
    "X_new = np.array(X)"
   ]
  },
  {
   "cell_type": "code",
   "execution_count": 134,
   "id": "a4df09ea",
   "metadata": {},
   "outputs": [],
   "source": [
    "y_new = np.array(y)"
   ]
  },
  {
   "cell_type": "code",
   "execution_count": 135,
   "id": "ab5a65ed",
   "metadata": {},
   "outputs": [
    {
     "data": {
      "text/plain": [
       "(132, 1, 1)"
      ]
     },
     "execution_count": 135,
     "metadata": {},
     "output_type": "execute_result"
    }
   ],
   "source": [
    "y_new = np.expand_dims(y_new.astype(np.float32), axis=-1)\n",
    "y_new.shape"
   ]
  },
  {
   "cell_type": "code",
   "execution_count": 136,
   "id": "3870a446",
   "metadata": {},
   "outputs": [],
   "source": [
    "#Splits into train and test sets\n",
    "X_train, X_test, y_train, y_test = train_test_split(X_new, y_new, test_size=0.20)"
   ]
  },
  {
   "cell_type": "code",
   "execution_count": 137,
   "id": "99cc74d6",
   "metadata": {},
   "outputs": [],
   "source": [
    "model = Sequential()\n",
    "model.add(SimpleRNN(units=20, activation='tanh'))\n",
    "model.add(Dense(10, activation=\"relu\"))\n",
    "model.add(Dense(1, activation=\"linear\"))"
   ]
  },
  {
   "cell_type": "code",
   "execution_count": 151,
   "id": "830620cb",
   "metadata": {},
   "outputs": [],
   "source": [
    "model.compile(loss='mse', \n",
    "              optimizer='adam',\n",
    "                metrics=['mae']) #change to adam"
   ]
  },
  {
   "cell_type": "code",
   "execution_count": 152,
   "id": "06c6c8fd",
   "metadata": {},
   "outputs": [
    {
     "name": "stdout",
     "output_type": "stream",
     "text": [
      "Epoch 1/100\n",
      "3/3 [==============================] - 1s 105ms/step - loss: 0.1744 - mae: 0.2551 - val_loss: 0.1665 - val_mae: 0.3042\n",
      "Epoch 2/100\n",
      "3/3 [==============================] - 0s 11ms/step - loss: 0.1325 - mae: 0.2292 - val_loss: 0.1082 - val_mae: 0.2418\n",
      "Epoch 3/100\n",
      "3/3 [==============================] - 0s 10ms/step - loss: 0.1039 - mae: 0.2101 - val_loss: 0.0745 - val_mae: 0.1997\n",
      "Epoch 4/100\n",
      "3/3 [==============================] - 0s 10ms/step - loss: 0.0782 - mae: 0.1839 - val_loss: 0.0573 - val_mae: 0.1780\n",
      "Epoch 5/100\n",
      "3/3 [==============================] - 0s 10ms/step - loss: 0.0660 - mae: 0.1619 - val_loss: 0.0475 - val_mae: 0.1630\n",
      "Epoch 6/100\n",
      "3/3 [==============================] - 0s 11ms/step - loss: 0.0502 - mae: 0.1412 - val_loss: 0.0407 - val_mae: 0.1604\n",
      "Epoch 7/100\n",
      "3/3 [==============================] - 0s 11ms/step - loss: 0.0445 - mae: 0.1478 - val_loss: 0.0373 - val_mae: 0.1530\n",
      "Epoch 8/100\n",
      "3/3 [==============================] - 0s 10ms/step - loss: 0.0378 - mae: 0.1247 - val_loss: 0.0374 - val_mae: 0.1534\n",
      "Epoch 9/100\n",
      "3/3 [==============================] - 0s 11ms/step - loss: 0.0327 - mae: 0.1201 - val_loss: 0.0310 - val_mae: 0.1407\n",
      "Epoch 10/100\n",
      "3/3 [==============================] - 0s 10ms/step - loss: 0.0290 - mae: 0.1218 - val_loss: 0.0304 - val_mae: 0.1408\n",
      "Epoch 11/100\n",
      "3/3 [==============================] - 0s 10ms/step - loss: 0.0264 - mae: 0.1142 - val_loss: 0.0304 - val_mae: 0.1426\n",
      "Epoch 12/100\n",
      "3/3 [==============================] - 0s 10ms/step - loss: 0.0250 - mae: 0.1122 - val_loss: 0.0301 - val_mae: 0.1416\n",
      "Epoch 13/100\n",
      "3/3 [==============================] - 0s 10ms/step - loss: 0.0226 - mae: 0.1064 - val_loss: 0.0316 - val_mae: 0.1440\n",
      "Epoch 14/100\n",
      "3/3 [==============================] - 0s 10ms/step - loss: 0.0236 - mae: 0.1114 - val_loss: 0.0302 - val_mae: 0.1428\n",
      "Epoch 15/100\n",
      "3/3 [==============================] - 0s 10ms/step - loss: 0.0221 - mae: 0.1085 - val_loss: 0.0289 - val_mae: 0.1395\n",
      "Epoch 16/100\n",
      "3/3 [==============================] - 0s 10ms/step - loss: 0.0213 - mae: 0.1098 - val_loss: 0.0310 - val_mae: 0.1399\n",
      "Epoch 17/100\n",
      "3/3 [==============================] - 0s 11ms/step - loss: 0.0206 - mae: 0.1068 - val_loss: 0.0292 - val_mae: 0.1427\n",
      "Epoch 18/100\n",
      "3/3 [==============================] - 0s 9ms/step - loss: 0.0203 - mae: 0.1090 - val_loss: 0.0289 - val_mae: 0.1391\n",
      "Epoch 19/100\n",
      "3/3 [==============================] - 0s 10ms/step - loss: 0.0182 - mae: 0.0983 - val_loss: 0.0309 - val_mae: 0.1378\n",
      "Epoch 20/100\n",
      "3/3 [==============================] - 0s 10ms/step - loss: 0.0194 - mae: 0.1024 - val_loss: 0.0285 - val_mae: 0.1348\n",
      "Epoch 21/100\n",
      "3/3 [==============================] - 0s 10ms/step - loss: 0.0177 - mae: 0.0957 - val_loss: 0.0271 - val_mae: 0.1336\n",
      "Epoch 22/100\n",
      "3/3 [==============================] - 0s 10ms/step - loss: 0.0180 - mae: 0.1015 - val_loss: 0.0263 - val_mae: 0.1285\n",
      "Epoch 23/100\n",
      "3/3 [==============================] - 0s 10ms/step - loss: 0.0186 - mae: 0.1016 - val_loss: 0.0279 - val_mae: 0.1293\n",
      "Epoch 24/100\n",
      "3/3 [==============================] - 0s 10ms/step - loss: 0.0168 - mae: 0.0950 - val_loss: 0.0265 - val_mae: 0.1327\n",
      "Epoch 25/100\n",
      "3/3 [==============================] - 0s 10ms/step - loss: 0.0187 - mae: 0.1047 - val_loss: 0.0252 - val_mae: 0.1270\n",
      "Epoch 26/100\n",
      "3/3 [==============================] - 0s 10ms/step - loss: 0.0165 - mae: 0.0970 - val_loss: 0.0283 - val_mae: 0.1310\n",
      "Epoch 27/100\n",
      "3/3 [==============================] - 0s 10ms/step - loss: 0.0167 - mae: 0.0994 - val_loss: 0.0238 - val_mae: 0.1238\n",
      "Epoch 28/100\n",
      "3/3 [==============================] - 0s 11ms/step - loss: 0.0161 - mae: 0.1000 - val_loss: 0.0241 - val_mae: 0.1262\n",
      "Epoch 29/100\n",
      "3/3 [==============================] - 0s 11ms/step - loss: 0.0161 - mae: 0.0992 - val_loss: 0.0232 - val_mae: 0.1192\n",
      "Epoch 30/100\n",
      "3/3 [==============================] - 0s 11ms/step - loss: 0.0169 - mae: 0.1007 - val_loss: 0.0258 - val_mae: 0.1231\n",
      "Epoch 31/100\n",
      "3/3 [==============================] - 0s 12ms/step - loss: 0.0160 - mae: 0.0967 - val_loss: 0.0241 - val_mae: 0.1302\n",
      "Epoch 32/100\n",
      "3/3 [==============================] - 0s 12ms/step - loss: 0.0147 - mae: 0.0899 - val_loss: 0.0214 - val_mae: 0.1156\n",
      "Epoch 33/100\n",
      "3/3 [==============================] - 0s 12ms/step - loss: 0.0141 - mae: 0.0866 - val_loss: 0.0214 - val_mae: 0.1116\n",
      "Epoch 34/100\n",
      "3/3 [==============================] - 0s 12ms/step - loss: 0.0135 - mae: 0.0862 - val_loss: 0.0201 - val_mae: 0.1122\n",
      "Epoch 35/100\n",
      "3/3 [==============================] - 0s 11ms/step - loss: 0.0135 - mae: 0.0860 - val_loss: 0.0199 - val_mae: 0.1124\n",
      "Epoch 36/100\n",
      "3/3 [==============================] - 0s 12ms/step - loss: 0.0128 - mae: 0.0815 - val_loss: 0.0192 - val_mae: 0.1055\n",
      "Epoch 37/100\n",
      "3/3 [==============================] - 0s 13ms/step - loss: 0.0126 - mae: 0.0816 - val_loss: 0.0191 - val_mae: 0.1071\n",
      "Epoch 38/100\n",
      "3/3 [==============================] - 0s 14ms/step - loss: 0.0124 - mae: 0.0815 - val_loss: 0.0192 - val_mae: 0.1097\n",
      "Epoch 39/100\n",
      "3/3 [==============================] - 0s 15ms/step - loss: 0.0122 - mae: 0.0802 - val_loss: 0.0188 - val_mae: 0.1030\n",
      "Epoch 40/100\n",
      "3/3 [==============================] - 0s 16ms/step - loss: 0.0129 - mae: 0.0823 - val_loss: 0.0191 - val_mae: 0.1025\n",
      "Epoch 41/100\n",
      "3/3 [==============================] - 0s 15ms/step - loss: 0.0129 - mae: 0.0849 - val_loss: 0.0201 - val_mae: 0.1138\n",
      "Epoch 42/100\n",
      "3/3 [==============================] - 0s 16ms/step - loss: 0.0132 - mae: 0.0862 - val_loss: 0.0197 - val_mae: 0.1051\n",
      "Epoch 43/100\n",
      "3/3 [==============================] - 0s 15ms/step - loss: 0.0117 - mae: 0.0764 - val_loss: 0.0193 - val_mae: 0.1095\n",
      "Epoch 44/100\n",
      "3/3 [==============================] - 0s 16ms/step - loss: 0.0120 - mae: 0.0796 - val_loss: 0.0182 - val_mae: 0.1034\n",
      "Epoch 45/100\n",
      "3/3 [==============================] - 0s 16ms/step - loss: 0.0118 - mae: 0.0787 - val_loss: 0.0187 - val_mae: 0.1003\n",
      "Epoch 46/100\n",
      "3/3 [==============================] - 0s 15ms/step - loss: 0.0115 - mae: 0.0773 - val_loss: 0.0184 - val_mae: 0.1043\n",
      "Epoch 47/100\n",
      "3/3 [==============================] - 0s 17ms/step - loss: 0.0115 - mae: 0.0789 - val_loss: 0.0186 - val_mae: 0.1075\n",
      "Epoch 48/100\n",
      "3/3 [==============================] - 0s 17ms/step - loss: 0.0115 - mae: 0.0763 - val_loss: 0.0183 - val_mae: 0.1007\n",
      "Epoch 49/100\n",
      "3/3 [==============================] - 0s 16ms/step - loss: 0.0115 - mae: 0.0770 - val_loss: 0.0172 - val_mae: 0.0999\n",
      "Epoch 50/100\n",
      "3/3 [==============================] - 0s 14ms/step - loss: 0.0108 - mae: 0.0760 - val_loss: 0.0172 - val_mae: 0.1032\n",
      "Epoch 51/100\n",
      "3/3 [==============================] - 0s 14ms/step - loss: 0.0120 - mae: 0.0820 - val_loss: 0.0161 - val_mae: 0.0952\n",
      "Epoch 52/100\n",
      "3/3 [==============================] - 0s 14ms/step - loss: 0.0122 - mae: 0.0824 - val_loss: 0.0175 - val_mae: 0.1010\n",
      "Epoch 53/100\n",
      "3/3 [==============================] - 0s 17ms/step - loss: 0.0114 - mae: 0.0752 - val_loss: 0.0176 - val_mae: 0.1065\n",
      "Epoch 54/100\n",
      "3/3 [==============================] - 0s 15ms/step - loss: 0.0115 - mae: 0.0787 - val_loss: 0.0164 - val_mae: 0.0979\n",
      "Epoch 55/100\n",
      "3/3 [==============================] - 0s 16ms/step - loss: 0.0107 - mae: 0.0729 - val_loss: 0.0174 - val_mae: 0.0995\n",
      "Epoch 56/100\n",
      "3/3 [==============================] - 0s 15ms/step - loss: 0.0108 - mae: 0.0740 - val_loss: 0.0163 - val_mae: 0.0980\n"
     ]
    },
    {
     "data": {
      "text/plain": [
       "<keras.callbacks.History at 0x1619a76d0>"
      ]
     },
     "execution_count": 152,
     "metadata": {},
     "output_type": "execute_result"
    }
   ],
   "source": [
    "es = EarlyStopping(patience=10)\n",
    "\n",
    "model.fit(X_train, y_train,\n",
    "          validation_split = 0.2,\n",
    "          callbacks=[es],\n",
    "          epochs=100, \n",
    "          verbose=1)"
   ]
  },
  {
   "cell_type": "code",
   "execution_count": 155,
   "id": "1ab64d49",
   "metadata": {},
   "outputs": [
    {
     "name": "stdout",
     "output_type": "stream",
     "text": [
      "Model: \"sequential_5\"\n",
      "_________________________________________________________________\n",
      " Layer (type)                Output Shape              Param #   \n",
      "=================================================================\n",
      " simple_rnn_5 (SimpleRNN)    (None, 20)                460       \n",
      "                                                                 \n",
      " dense_10 (Dense)            (None, 10)                210       \n",
      "                                                                 \n",
      " dense_11 (Dense)            (None, 1)                 11        \n",
      "                                                                 \n",
      "=================================================================\n",
      "Total params: 681\n",
      "Trainable params: 681\n",
      "Non-trainable params: 0\n",
      "_________________________________________________________________\n"
     ]
    }
   ],
   "source": [
    "model.summary()"
   ]
  },
  {
   "cell_type": "code",
   "execution_count": 153,
   "id": "ab61bd80",
   "metadata": {},
   "outputs": [
    {
     "name": "stdout",
     "output_type": "stream",
     "text": [
      "1/1 [==============================] - 0s 17ms/step - loss: 0.0163 - mae: 0.1018\n"
     ]
    }
   ],
   "source": [
    "history = model.evaluate(X_test, y_test)"
   ]
  },
  {
   "cell_type": "code",
   "execution_count": 150,
   "id": "939b1e65",
   "metadata": {},
   "outputs": [
    {
     "ename": "TypeError",
     "evalue": "'float' object is not subscriptable",
     "output_type": "error",
     "traceback": [
      "\u001b[0;31m---------------------------------------------------------------------------\u001b[0m",
      "\u001b[0;31mTypeError\u001b[0m                                 Traceback (most recent call last)",
      "Cell \u001b[0;32mIn [150], line 1\u001b[0m\n\u001b[0;32m----> 1\u001b[0m \u001b[43mhistory\u001b[49m\u001b[43m[\u001b[49m\u001b[38;5;241;43m0\u001b[39;49m\u001b[43m]\u001b[49m\n",
      "\u001b[0;31mTypeError\u001b[0m: 'float' object is not subscriptable"
     ]
    }
   ],
   "source": [
    "history[0]"
   ]
  },
  {
   "cell_type": "code",
   "execution_count": null,
   "id": "ef211316",
   "metadata": {},
   "outputs": [],
   "source": []
  },
  {
   "cell_type": "code",
   "execution_count": null,
   "id": "43a2a066",
   "metadata": {},
   "outputs": [],
   "source": []
  },
  {
   "cell_type": "code",
   "execution_count": null,
   "id": "9efdbe3c",
   "metadata": {},
   "outputs": [],
   "source": []
  },
  {
   "cell_type": "code",
   "execution_count": null,
   "id": "735cd576",
   "metadata": {},
   "outputs": [],
   "source": []
  },
  {
   "cell_type": "markdown",
   "id": "eb5da620",
   "metadata": {
    "heading_collapsed": true
   },
   "source": [
    "# Testing with the dataframe all in once"
   ]
  },
  {
   "cell_type": "code",
   "execution_count": null,
   "id": "ee768360",
   "metadata": {
    "hidden": true
   },
   "outputs": [],
   "source": [
    "df.drop(columns='Country', inplace=True)"
   ]
  },
  {
   "cell_type": "code",
   "execution_count": null,
   "id": "9fc31f79",
   "metadata": {
    "hidden": true
   },
   "outputs": [],
   "source": [
    "X = df[['fertility','avg_years_of_schooling']]\n",
    "y = df['avg_years_of_schooling']"
   ]
  },
  {
   "cell_type": "code",
   "execution_count": null,
   "id": "ea2811b8",
   "metadata": {
    "hidden": true
   },
   "outputs": [],
   "source": [
    "X_train, X_test, y_train, y_test = train_test_split(X, y, test_size=0.20)\n",
    "\n",
    "es = EarlyStopping(patience=5)\n",
    "\n",
    "model = Sequential()\n",
    "model.add(SimpleRNN(units=20, activation='tanh'))\n",
    "model.add(Dense(10, activation=\"relu\"))\n",
    "model.add(Dense(1, activation=\"linear\"))\n",
    "\n",
    "model.compile(loss='mse', \n",
    "              optimizer='adam') #change to adam\n",
    "\n",
    "model.fit(X_train, y_train,\n",
    "          epochs=10, \n",
    "          verbose=0)"
   ]
  },
  {
   "cell_type": "code",
   "execution_count": null,
   "id": "daf9edce",
   "metadata": {
    "hidden": true
   },
   "outputs": [],
   "source": [
    "history = model.evaluate(X_)"
   ]
  },
  {
   "cell_type": "code",
   "execution_count": null,
   "id": "aeb45a27",
   "metadata": {
    "hidden": true
   },
   "outputs": [],
   "source": []
  },
  {
   "cell_type": "code",
   "execution_count": 29,
   "id": "9e7fb492",
   "metadata": {
    "hidden": true
   },
   "outputs": [
    {
     "data": {
      "text/html": [
       "<div>\n",
       "<style scoped>\n",
       "    .dataframe tbody tr th:only-of-type {\n",
       "        vertical-align: middle;\n",
       "    }\n",
       "\n",
       "    .dataframe tbody tr th {\n",
       "        vertical-align: top;\n",
       "    }\n",
       "\n",
       "    .dataframe thead th {\n",
       "        text-align: right;\n",
       "    }\n",
       "</style>\n",
       "<table border=\"1\" class=\"dataframe\">\n",
       "  <thead>\n",
       "    <tr style=\"text-align: right;\">\n",
       "      <th></th>\n",
       "      <th>Country</th>\n",
       "      <th>fertility</th>\n",
       "      <th>avg_years_of_schooling</th>\n",
       "    </tr>\n",
       "    <tr>\n",
       "      <th>Year</th>\n",
       "      <th></th>\n",
       "      <th></th>\n",
       "      <th></th>\n",
       "    </tr>\n",
       "  </thead>\n",
       "  <tbody>\n",
       "    <tr>\n",
       "      <th>1960</th>\n",
       "      <td>Japan</td>\n",
       "      <td>2.00</td>\n",
       "      <td>6.97</td>\n",
       "    </tr>\n",
       "    <tr>\n",
       "      <th>1965</th>\n",
       "      <td>Japan</td>\n",
       "      <td>2.14</td>\n",
       "      <td>6.94</td>\n",
       "    </tr>\n",
       "    <tr>\n",
       "      <th>1970</th>\n",
       "      <td>Japan</td>\n",
       "      <td>2.14</td>\n",
       "      <td>7.08</td>\n",
       "    </tr>\n",
       "    <tr>\n",
       "      <th>1975</th>\n",
       "      <td>Japan</td>\n",
       "      <td>1.91</td>\n",
       "      <td>7.90</td>\n",
       "    </tr>\n",
       "    <tr>\n",
       "      <th>1980</th>\n",
       "      <td>Japan</td>\n",
       "      <td>1.75</td>\n",
       "      <td>8.71</td>\n",
       "    </tr>\n",
       "  </tbody>\n",
       "</table>\n",
       "</div>"
      ],
      "text/plain": [
       "     Country  fertility  avg_years_of_schooling\n",
       "Year                                           \n",
       "1960   Japan       2.00                    6.97\n",
       "1965   Japan       2.14                    6.94\n",
       "1970   Japan       2.14                    7.08\n",
       "1975   Japan       1.91                    7.90\n",
       "1980   Japan       1.75                    8.71"
      ]
     },
     "execution_count": 29,
     "metadata": {},
     "output_type": "execute_result"
    }
   ],
   "source": [
    "df[df['Country']=='Japan'].head(5)"
   ]
  },
  {
   "cell_type": "code",
   "execution_count": 58,
   "id": "4fc3f56e",
   "metadata": {
    "hidden": true
   },
   "outputs": [],
   "source": [
    "# --- SEQUENCE A (brazil)\n",
    "\n",
    "day_1 = [6.06, 2.49]  # OBSERVATION 1 [fertility, avg_years_of_schooling, pollution]\n",
    "day_2 = [5.70, 2.77]  # OBSERVATION 2 [temperature, speed, pollution]\n",
    "day_3 = [ 4.97,  3.09]  # OBSERVATION 3 [temperature, speed, pollution]\n",
    "day_4 = [ 4.42,  2.82]  # OBSERVATION 4 [temperature, speed, pollution]\n",
    "\n",
    "sequence_a = [day_1, day_2, day_3, day_4]\n",
    "\n",
    "y_a = [2.93]\n",
    "\n",
    "day_1b = [2, 6.97]  # OBSERVATION 1 [fertility, avg_years_of_schooling, pollution]\n",
    "day_2b = [2.14, 6.94]  # OBSERVATION 2 [temperature, speed, pollution]\n",
    "day_3b = [2.14, 7.08]  # OBSERVATION 3 [temperature, speed, pollution]\n",
    "day_4b = [1.91, 7.9]  # OBSERVATION 4 [temperature, speed, pollution]\n",
    "\n",
    "sequence_b = [day_1b, day_2b, day_3b, day_4b]\n",
    "\n",
    "y_b = [8.71]"
   ]
  },
  {
   "cell_type": "code",
   "execution_count": 63,
   "id": "5420fe1d",
   "metadata": {
    "hidden": true
   },
   "outputs": [
    {
     "data": {
      "text/html": [
       "<div>\n",
       "<style scoped>\n",
       "    .dataframe tbody tr th:only-of-type {\n",
       "        vertical-align: middle;\n",
       "    }\n",
       "\n",
       "    .dataframe tbody tr th {\n",
       "        vertical-align: top;\n",
       "    }\n",
       "\n",
       "    .dataframe thead th {\n",
       "        text-align: right;\n",
       "    }\n",
       "</style>\n",
       "<table border=\"1\" class=\"dataframe\">\n",
       "  <thead>\n",
       "    <tr style=\"text-align: right;\">\n",
       "      <th></th>\n",
       "      <th>Country</th>\n",
       "      <th>fertility</th>\n",
       "      <th>avg_years_of_schooling</th>\n",
       "    </tr>\n",
       "    <tr>\n",
       "      <th>Year</th>\n",
       "      <th></th>\n",
       "      <th></th>\n",
       "      <th></th>\n",
       "    </tr>\n",
       "  </thead>\n",
       "  <tbody>\n",
       "    <tr>\n",
       "      <th>1960</th>\n",
       "      <td>Germany</td>\n",
       "      <td>2.37</td>\n",
       "      <td>7.53</td>\n",
       "    </tr>\n",
       "    <tr>\n",
       "      <th>1960</th>\n",
       "      <td>Thailand</td>\n",
       "      <td>6.15</td>\n",
       "      <td>2.07</td>\n",
       "    </tr>\n",
       "    <tr>\n",
       "      <th>1960</th>\n",
       "      <td>Kazakhstan</td>\n",
       "      <td>4.56</td>\n",
       "      <td>3.07</td>\n",
       "    </tr>\n",
       "    <tr>\n",
       "      <th>1960</th>\n",
       "      <td>Vietnam</td>\n",
       "      <td>6.35</td>\n",
       "      <td>2.01</td>\n",
       "    </tr>\n",
       "    <tr>\n",
       "      <th>1960</th>\n",
       "      <td>Kenya</td>\n",
       "      <td>7.95</td>\n",
       "      <td>1.21</td>\n",
       "    </tr>\n",
       "  </tbody>\n",
       "</table>\n",
       "</div>"
      ],
      "text/plain": [
       "         Country  fertility  avg_years_of_schooling\n",
       "Year                                               \n",
       "1960     Germany       2.37                    7.53\n",
       "1960    Thailand       6.15                    2.07\n",
       "1960  Kazakhstan       4.56                    3.07\n",
       "1960     Vietnam       6.35                    2.01\n",
       "1960       Kenya       7.95                    1.21"
      ]
     },
     "execution_count": 63,
     "metadata": {},
     "output_type": "execute_result"
    }
   ],
   "source": [
    "df.head()"
   ]
  },
  {
   "cell_type": "code",
   "execution_count": 60,
   "id": "4973a6a1",
   "metadata": {
    "hidden": true
   },
   "outputs": [],
   "source": [
    "X = np.array([sequence_a, sequence_b]).astype(np.float32)\n",
    "y = np.expand_dims(np.array([y_a, y_b]).astype(np.float32), axis=-1)"
   ]
  },
  {
   "cell_type": "code",
   "execution_count": 61,
   "id": "ba1be121",
   "metadata": {
    "hidden": true
   },
   "outputs": [
    {
     "data": {
      "text/plain": [
       "array([[2.37, 2.5 , 2.03, ..., 1.5 , 1.6 , 1.57],\n",
       "       [6.15, 6.13, 5.6 , ..., 1.54, 1.54, 1.53],\n",
       "       [4.56, 4.05, 3.61, ..., 2.74, 2.77, 2.75],\n",
       "       ...,\n",
       "       [6.49, 5.77, 4.91, ..., 1.68, 1.66, 1.64],\n",
       "       [2.23, 2.25, 2.4 , ..., 1.33, 1.38, 1.35],\n",
       "       [4.03, 3.54, 3.16, ..., 1.99, 1.87, 1.81]])"
      ]
     },
     "execution_count": 61,
     "metadata": {},
     "output_type": "execute_result"
    }
   ],
   "source": [
    "fert"
   ]
  },
  {
   "cell_type": "code",
   "execution_count": 62,
   "id": "9194890a",
   "metadata": {
    "hidden": true
   },
   "outputs": [
    {
     "data": {
      "text/plain": [
       "(2, 4, 2)"
      ]
     },
     "execution_count": 62,
     "metadata": {},
     "output_type": "execute_result"
    }
   ],
   "source": [
    "X.shape"
   ]
  },
  {
   "cell_type": "code",
   "execution_count": 33,
   "id": "94ed361a",
   "metadata": {
    "hidden": true
   },
   "outputs": [
    {
     "data": {
      "text/plain": [
       "(2, 1, 1)"
      ]
     },
     "execution_count": 33,
     "metadata": {},
     "output_type": "execute_result"
    }
   ],
   "source": [
    "y.shape"
   ]
  },
  {
   "cell_type": "code",
   "execution_count": 35,
   "id": "716e27fd",
   "metadata": {
    "collapsed": true,
    "hidden": true
   },
   "outputs": [
    {
     "name": "stdout",
     "output_type": "stream",
     "text": [
      "Epoch 1/10\n",
      "1/1 [==============================] - 1s 605ms/step - loss: 8.3856\n",
      "Epoch 2/10\n",
      "1/1 [==============================] - 0s 3ms/step - loss: 7.9014\n",
      "Epoch 3/10\n",
      "1/1 [==============================] - 0s 3ms/step - loss: 7.5031\n",
      "Epoch 4/10\n",
      "1/1 [==============================] - 0s 3ms/step - loss: 7.1220\n",
      "Epoch 5/10\n",
      "1/1 [==============================] - 0s 3ms/step - loss: 6.7556\n",
      "Epoch 6/10\n",
      "1/1 [==============================] - 0s 3ms/step - loss: 6.4441\n",
      "Epoch 7/10\n",
      "1/1 [==============================] - 0s 4ms/step - loss: 6.1568\n",
      "Epoch 8/10\n",
      "1/1 [==============================] - 0s 3ms/step - loss: 5.8791\n",
      "Epoch 9/10\n",
      "1/1 [==============================] - 0s 2ms/step - loss: 5.6107\n",
      "Epoch 10/10\n",
      "1/1 [==============================] - 0s 4ms/step - loss: 5.3512\n"
     ]
    },
    {
     "data": {
      "text/plain": [
       "<keras.callbacks.History at 0x28e6299f0>"
      ]
     },
     "execution_count": 35,
     "metadata": {},
     "output_type": "execute_result"
    }
   ],
   "source": [
    "X_train, X_test, y_train, y_test = train_test_split(X, y, test_size=0.20)\n",
    "\n",
    "es = EarlyStopping(patience=5)\n",
    "\n",
    "model = Sequential()\n",
    "model.add(SimpleRNN(units=20, activation='tanh'))\n",
    "model.add(Dense(10, activation=\"relu\"))\n",
    "model.add(Dense(1, activation=\"linear\"))\n",
    "\n",
    "model.compile(loss='mse', \n",
    "              optimizer='adam') #change to adam\n",
    "\n",
    "model.fit(X_train, y_train,\n",
    "          epochs=10, \n",
    "          verbose=1)"
   ]
  },
  {
   "cell_type": "code",
   "execution_count": null,
   "id": "81e97c0d",
   "metadata": {
    "hidden": true
   },
   "outputs": [],
   "source": []
  },
  {
   "cell_type": "code",
   "execution_count": null,
   "id": "76c3c2a2",
   "metadata": {
    "hidden": true
   },
   "outputs": [],
   "source": []
  },
  {
   "cell_type": "code",
   "execution_count": null,
   "id": "c2e76697",
   "metadata": {
    "hidden": true
   },
   "outputs": [],
   "source": []
  },
  {
   "cell_type": "code",
   "execution_count": null,
   "id": "55c33ac2",
   "metadata": {
    "hidden": true
   },
   "outputs": [],
   "source": []
  },
  {
   "cell_type": "code",
   "execution_count": null,
   "id": "d5ed0eab",
   "metadata": {
    "hidden": true
   },
   "outputs": [],
   "source": []
  },
  {
   "cell_type": "code",
   "execution_count": null,
   "id": "6bcc66c1",
   "metadata": {
    "hidden": true
   },
   "outputs": [],
   "source": []
  },
  {
   "cell_type": "code",
   "execution_count": null,
   "id": "d3e2355d",
   "metadata": {
    "hidden": true
   },
   "outputs": [],
   "source": []
  },
  {
   "cell_type": "code",
   "execution_count": null,
   "id": "ec765b4b",
   "metadata": {
    "hidden": true
   },
   "outputs": [],
   "source": []
  },
  {
   "cell_type": "code",
   "execution_count": null,
   "id": "3da1dabb",
   "metadata": {
    "hidden": true
   },
   "outputs": [],
   "source": []
  },
  {
   "cell_type": "code",
   "execution_count": null,
   "id": "6c84335f",
   "metadata": {
    "hidden": true
   },
   "outputs": [],
   "source": []
  },
  {
   "cell_type": "code",
   "execution_count": null,
   "id": "7af46e6f",
   "metadata": {
    "hidden": true
   },
   "outputs": [],
   "source": []
  },
  {
   "cell_type": "code",
   "execution_count": null,
   "id": "8dc2f6a0",
   "metadata": {
    "hidden": true
   },
   "outputs": [],
   "source": []
  },
  {
   "cell_type": "code",
   "execution_count": null,
   "id": "f55ab94d",
   "metadata": {
    "hidden": true
   },
   "outputs": [],
   "source": []
  },
  {
   "cell_type": "code",
   "execution_count": null,
   "id": "a6d940bb",
   "metadata": {
    "hidden": true
   },
   "outputs": [],
   "source": []
  },
  {
   "cell_type": "code",
   "execution_count": null,
   "id": "b34426c9",
   "metadata": {
    "hidden": true
   },
   "outputs": [],
   "source": []
  },
  {
   "cell_type": "code",
   "execution_count": null,
   "id": "a0894bda",
   "metadata": {
    "hidden": true
   },
   "outputs": [],
   "source": []
  },
  {
   "cell_type": "code",
   "execution_count": 73,
   "id": "2a29da57",
   "metadata": {
    "hidden": true
   },
   "outputs": [
    {
     "data": {
      "text/html": [
       "<div>\n",
       "<style scoped>\n",
       "    .dataframe tbody tr th:only-of-type {\n",
       "        vertical-align: middle;\n",
       "    }\n",
       "\n",
       "    .dataframe tbody tr th {\n",
       "        vertical-align: top;\n",
       "    }\n",
       "\n",
       "    .dataframe thead th {\n",
       "        text-align: right;\n",
       "    }\n",
       "</style>\n",
       "<table border=\"1\" class=\"dataframe\">\n",
       "  <thead>\n",
       "    <tr style=\"text-align: right;\">\n",
       "      <th></th>\n",
       "      <th>Country</th>\n",
       "      <th>fertility</th>\n",
       "      <th>avg_years_of_schooling</th>\n",
       "    </tr>\n",
       "    <tr>\n",
       "      <th>Year</th>\n",
       "      <th></th>\n",
       "      <th></th>\n",
       "      <th></th>\n",
       "    </tr>\n",
       "  </thead>\n",
       "  <tbody>\n",
       "    <tr>\n",
       "      <th>1960</th>\n",
       "      <td>Germany</td>\n",
       "      <td>2.37</td>\n",
       "      <td>7.53</td>\n",
       "    </tr>\n",
       "    <tr>\n",
       "      <th>1960</th>\n",
       "      <td>Thailand</td>\n",
       "      <td>6.15</td>\n",
       "      <td>2.07</td>\n",
       "    </tr>\n",
       "    <tr>\n",
       "      <th>1960</th>\n",
       "      <td>Kazakhstan</td>\n",
       "      <td>4.56</td>\n",
       "      <td>3.07</td>\n",
       "    </tr>\n",
       "    <tr>\n",
       "      <th>1960</th>\n",
       "      <td>Vietnam</td>\n",
       "      <td>6.35</td>\n",
       "      <td>2.01</td>\n",
       "    </tr>\n",
       "    <tr>\n",
       "      <th>1960</th>\n",
       "      <td>Kenya</td>\n",
       "      <td>7.95</td>\n",
       "      <td>1.21</td>\n",
       "    </tr>\n",
       "  </tbody>\n",
       "</table>\n",
       "</div>"
      ],
      "text/plain": [
       "         Country  fertility  avg_years_of_schooling\n",
       "Year                                               \n",
       "1960     Germany       2.37                    7.53\n",
       "1960    Thailand       6.15                    2.07\n",
       "1960  Kazakhstan       4.56                    3.07\n",
       "1960     Vietnam       6.35                    2.01\n",
       "1960       Kenya       7.95                    1.21"
      ]
     },
     "execution_count": 73,
     "metadata": {},
     "output_type": "execute_result"
    }
   ],
   "source": [
    "df = preproc(data)\n",
    "df.head()"
   ]
  },
  {
   "cell_type": "code",
   "execution_count": 104,
   "id": "1be7b852",
   "metadata": {
    "hidden": true
   },
   "outputs": [],
   "source": [
    "X, y = list_X_y(data)"
   ]
  },
  {
   "cell_type": "code",
   "execution_count": 105,
   "id": "e6c89888",
   "metadata": {
    "hidden": true,
    "scrolled": true
   },
   "outputs": [
    {
     "data": {
      "text/plain": [
       "array([[6.52, 0.35],\n",
       "       [6.79, 0.42],\n",
       "       [7.08, 0.48],\n",
       "       [7.28, 1.02],\n",
       "       [7.22, 1.72],\n",
       "       [6.81, 2.37],\n",
       "       [6.19, 2.99],\n",
       "       [6.07, 3.1 ],\n",
       "       [5.96, 3.2 ],\n",
       "       [5.86, 3.3 ],\n",
       "       [5.77, 3.4 ],\n",
       "       [5.7 , 3.5 ],\n",
       "       [5.63, 3.6 ],\n",
       "       [5.57, 3.7 ],\n",
       "       [5.52, 3.8 ],\n",
       "       [5.47, 3.9 ],\n",
       "       [5.42, 4.  ],\n",
       "       [5.37, 4.  ],\n",
       "       [5.33, 4.1 ],\n",
       "       [5.28, 4.1 ],\n",
       "       [5.23, 4.2 ],\n",
       "       [5.18, 4.2 ],\n",
       "       [5.12, 4.3 ],\n",
       "       [5.06, 4.3 ],\n",
       "       [5.  , 4.3 ],\n",
       "       [4.94, 4.3 ],\n",
       "       [4.87, 4.3 ],\n",
       "       [4.8 , 4.4 ],\n",
       "       [4.73, 4.4 ],\n",
       "       [4.66, 4.5 ],\n",
       "       [4.59, 4.7 ],\n",
       "       [4.52, 4.7 ],\n",
       "       [4.45, 4.8 ]])"
      ]
     },
     "execution_count": 105,
     "metadata": {},
     "output_type": "execute_result"
    }
   ],
   "source": [
    "np.array(X[10])"
   ]
  },
  {
   "cell_type": "code",
   "execution_count": 78,
   "id": "6caf1087",
   "metadata": {
    "hidden": true
   },
   "outputs": [
    {
     "data": {
      "text/plain": [
       "[[6.06, 2.49], [5.7, 2.77], [4.97, 3.09], [4.42, 2.82]]"
      ]
     },
     "execution_count": 78,
     "metadata": {},
     "output_type": "execute_result"
    }
   ],
   "source": [
    "sequence_a"
   ]
  },
  {
   "cell_type": "code",
   "execution_count": 102,
   "id": "59a5af07",
   "metadata": {
    "hidden": true,
    "scrolled": true
   },
   "outputs": [
    {
     "data": {
      "text/html": [
       "<div>\n",
       "<style scoped>\n",
       "    .dataframe tbody tr th:only-of-type {\n",
       "        vertical-align: middle;\n",
       "    }\n",
       "\n",
       "    .dataframe tbody tr th {\n",
       "        vertical-align: top;\n",
       "    }\n",
       "\n",
       "    .dataframe thead th {\n",
       "        text-align: right;\n",
       "    }\n",
       "</style>\n",
       "<table border=\"1\" class=\"dataframe\">\n",
       "  <thead>\n",
       "    <tr style=\"text-align: right;\">\n",
       "      <th></th>\n",
       "      <th>fertility</th>\n",
       "      <th>avg_years_of_schooling</th>\n",
       "    </tr>\n",
       "    <tr>\n",
       "      <th>Year</th>\n",
       "      <th></th>\n",
       "      <th></th>\n",
       "    </tr>\n",
       "  </thead>\n",
       "  <tbody>\n",
       "    <tr>\n",
       "      <th>1960</th>\n",
       "      <td>2.37</td>\n",
       "      <td>7.53</td>\n",
       "    </tr>\n",
       "    <tr>\n",
       "      <th>1965</th>\n",
       "      <td>2.50</td>\n",
       "      <td>7.68</td>\n",
       "    </tr>\n",
       "    <tr>\n",
       "      <th>1970</th>\n",
       "      <td>2.03</td>\n",
       "      <td>7.71</td>\n",
       "    </tr>\n",
       "    <tr>\n",
       "      <th>1975</th>\n",
       "      <td>1.45</td>\n",
       "      <td>7.58</td>\n",
       "    </tr>\n",
       "    <tr>\n",
       "      <th>1980</th>\n",
       "      <td>1.44</td>\n",
       "      <td>7.63</td>\n",
       "    </tr>\n",
       "    <tr>\n",
       "      <th>1985</th>\n",
       "      <td>1.37</td>\n",
       "      <td>7.55</td>\n",
       "    </tr>\n",
       "    <tr>\n",
       "      <th>1990</th>\n",
       "      <td>1.45</td>\n",
       "      <td>8.77</td>\n",
       "    </tr>\n",
       "    <tr>\n",
       "      <th>1991</th>\n",
       "      <td>1.33</td>\n",
       "      <td>8.90</td>\n",
       "    </tr>\n",
       "    <tr>\n",
       "      <th>1992</th>\n",
       "      <td>1.29</td>\n",
       "      <td>9.10</td>\n",
       "    </tr>\n",
       "    <tr>\n",
       "      <th>1993</th>\n",
       "      <td>1.28</td>\n",
       "      <td>9.30</td>\n",
       "    </tr>\n",
       "    <tr>\n",
       "      <th>1994</th>\n",
       "      <td>1.24</td>\n",
       "      <td>9.50</td>\n",
       "    </tr>\n",
       "    <tr>\n",
       "      <th>1995</th>\n",
       "      <td>1.25</td>\n",
       "      <td>9.70</td>\n",
       "    </tr>\n",
       "    <tr>\n",
       "      <th>1996</th>\n",
       "      <td>1.30</td>\n",
       "      <td>9.80</td>\n",
       "    </tr>\n",
       "    <tr>\n",
       "      <th>1997</th>\n",
       "      <td>1.35</td>\n",
       "      <td>10.00</td>\n",
       "    </tr>\n",
       "    <tr>\n",
       "      <th>1998</th>\n",
       "      <td>1.36</td>\n",
       "      <td>10.20</td>\n",
       "    </tr>\n",
       "    <tr>\n",
       "      <th>1999</th>\n",
       "      <td>1.36</td>\n",
       "      <td>10.30</td>\n",
       "    </tr>\n",
       "    <tr>\n",
       "      <th>2000</th>\n",
       "      <td>1.38</td>\n",
       "      <td>11.20</td>\n",
       "    </tr>\n",
       "    <tr>\n",
       "      <th>2001</th>\n",
       "      <td>1.35</td>\n",
       "      <td>11.70</td>\n",
       "    </tr>\n",
       "    <tr>\n",
       "      <th>2002</th>\n",
       "      <td>1.34</td>\n",
       "      <td>12.10</td>\n",
       "    </tr>\n",
       "    <tr>\n",
       "      <th>2003</th>\n",
       "      <td>1.34</td>\n",
       "      <td>12.50</td>\n",
       "    </tr>\n",
       "    <tr>\n",
       "      <th>2004</th>\n",
       "      <td>1.36</td>\n",
       "      <td>12.90</td>\n",
       "    </tr>\n",
       "    <tr>\n",
       "      <th>2005</th>\n",
       "      <td>1.34</td>\n",
       "      <td>13.30</td>\n",
       "    </tr>\n",
       "    <tr>\n",
       "      <th>2006</th>\n",
       "      <td>1.33</td>\n",
       "      <td>13.60</td>\n",
       "    </tr>\n",
       "    <tr>\n",
       "      <th>2007</th>\n",
       "      <td>1.37</td>\n",
       "      <td>13.70</td>\n",
       "    </tr>\n",
       "    <tr>\n",
       "      <th>2008</th>\n",
       "      <td>1.38</td>\n",
       "      <td>13.70</td>\n",
       "    </tr>\n",
       "    <tr>\n",
       "      <th>2009</th>\n",
       "      <td>1.36</td>\n",
       "      <td>13.80</td>\n",
       "    </tr>\n",
       "    <tr>\n",
       "      <th>2010</th>\n",
       "      <td>1.39</td>\n",
       "      <td>13.80</td>\n",
       "    </tr>\n",
       "    <tr>\n",
       "      <th>2011</th>\n",
       "      <td>1.39</td>\n",
       "      <td>13.90</td>\n",
       "    </tr>\n",
       "    <tr>\n",
       "      <th>2012</th>\n",
       "      <td>1.41</td>\n",
       "      <td>14.00</td>\n",
       "    </tr>\n",
       "    <tr>\n",
       "      <th>2013</th>\n",
       "      <td>1.42</td>\n",
       "      <td>14.00</td>\n",
       "    </tr>\n",
       "    <tr>\n",
       "      <th>2014</th>\n",
       "      <td>1.47</td>\n",
       "      <td>14.00</td>\n",
       "    </tr>\n",
       "    <tr>\n",
       "      <th>2015</th>\n",
       "      <td>1.50</td>\n",
       "      <td>14.10</td>\n",
       "    </tr>\n",
       "    <tr>\n",
       "      <th>2016</th>\n",
       "      <td>1.60</td>\n",
       "      <td>14.10</td>\n",
       "    </tr>\n",
       "  </tbody>\n",
       "</table>\n",
       "</div>"
      ],
      "text/plain": [
       "      fertility  avg_years_of_schooling\n",
       "Year                                   \n",
       "1960       2.37                    7.53\n",
       "1965       2.50                    7.68\n",
       "1970       2.03                    7.71\n",
       "1975       1.45                    7.58\n",
       "1980       1.44                    7.63\n",
       "1985       1.37                    7.55\n",
       "1990       1.45                    8.77\n",
       "1991       1.33                    8.90\n",
       "1992       1.29                    9.10\n",
       "1993       1.28                    9.30\n",
       "1994       1.24                    9.50\n",
       "1995       1.25                    9.70\n",
       "1996       1.30                    9.80\n",
       "1997       1.35                   10.00\n",
       "1998       1.36                   10.20\n",
       "1999       1.36                   10.30\n",
       "2000       1.38                   11.20\n",
       "2001       1.35                   11.70\n",
       "2002       1.34                   12.10\n",
       "2003       1.34                   12.50\n",
       "2004       1.36                   12.90\n",
       "2005       1.34                   13.30\n",
       "2006       1.33                   13.60\n",
       "2007       1.37                   13.70\n",
       "2008       1.38                   13.70\n",
       "2009       1.36                   13.80\n",
       "2010       1.39                   13.80\n",
       "2011       1.39                   13.90\n",
       "2012       1.41                   14.00\n",
       "2013       1.42                   14.00\n",
       "2014       1.47                   14.00\n",
       "2015       1.50                   14.10\n",
       "2016       1.60                   14.10"
      ]
     },
     "execution_count": 102,
     "metadata": {},
     "output_type": "execute_result"
    }
   ],
   "source": [
    "X[0].head(33)"
   ]
  },
  {
   "cell_type": "code",
   "execution_count": 106,
   "id": "e5dae1c8",
   "metadata": {
    "hidden": true
   },
   "outputs": [],
   "source": [
    "X_new = np.array([np.array(X[0]), np.array(X[1]), np.array(X[2]), np.array(X[3]), np.array(X[4])]).astype(np.float32)"
   ]
  },
  {
   "cell_type": "code",
   "execution_count": 107,
   "id": "8d853a6b",
   "metadata": {
    "hidden": true
   },
   "outputs": [
    {
     "data": {
      "text/plain": [
       "(5, 33, 2)"
      ]
     },
     "execution_count": 107,
     "metadata": {},
     "output_type": "execute_result"
    }
   ],
   "source": [
    "X_new.shape"
   ]
  },
  {
   "cell_type": "code",
   "execution_count": 111,
   "id": "a006edd1",
   "metadata": {
    "hidden": true
   },
   "outputs": [
    {
     "data": {
      "text/plain": [
       "(132, 1)"
      ]
     },
     "execution_count": 111,
     "metadata": {},
     "output_type": "execute_result"
    }
   ],
   "source": [
    "np.array(y).shape"
   ]
  },
  {
   "cell_type": "code",
   "execution_count": 112,
   "id": "de1fbe44",
   "metadata": {
    "hidden": true
   },
   "outputs": [],
   "source": [
    "y_new = np.expand_dims(\n",
    "    np.array([np.array(y[0]), np.array(y[1]), np.array(y[2]), \n",
    "              np.array(y[3]), np.array(y[4])]).astype(np.float32), axis=-1)"
   ]
  },
  {
   "cell_type": "code",
   "execution_count": 113,
   "id": "fe3ca12f",
   "metadata": {
    "hidden": true
   },
   "outputs": [
    {
     "data": {
      "text/plain": [
       "(5, 1, 1)"
      ]
     },
     "execution_count": 113,
     "metadata": {},
     "output_type": "execute_result"
    }
   ],
   "source": [
    "y_new.shape"
   ]
  },
  {
   "cell_type": "code",
   "execution_count": 115,
   "id": "914df54c",
   "metadata": {
    "hidden": true
   },
   "outputs": [
    {
     "name": "stdout",
     "output_type": "stream",
     "text": [
      "Epoch 1/10\n",
      "1/1 [==============================] - 1s 599ms/step - loss: 119.8817\n",
      "Epoch 2/10\n",
      "1/1 [==============================] - 0s 6ms/step - loss: 119.0840\n",
      "Epoch 3/10\n",
      "1/1 [==============================] - 0s 6ms/step - loss: 118.2848\n",
      "Epoch 4/10\n",
      "1/1 [==============================] - 0s 4ms/step - loss: 117.4835\n",
      "Epoch 5/10\n",
      "1/1 [==============================] - 0s 4ms/step - loss: 116.6798\n",
      "Epoch 6/10\n",
      "1/1 [==============================] - 0s 4ms/step - loss: 115.8164\n",
      "Epoch 7/10\n",
      "1/1 [==============================] - 0s 5ms/step - loss: 114.9221\n",
      "Epoch 8/10\n",
      "1/1 [==============================] - 0s 5ms/step - loss: 114.0195\n",
      "Epoch 9/10\n",
      "1/1 [==============================] - 0s 4ms/step - loss: 113.1092\n",
      "Epoch 10/10\n",
      "1/1 [==============================] - 0s 8ms/step - loss: 112.1915\n"
     ]
    },
    {
     "data": {
      "text/plain": [
       "<keras.callbacks.History at 0x160547fd0>"
      ]
     },
     "execution_count": 115,
     "metadata": {},
     "output_type": "execute_result"
    }
   ],
   "source": [
    "#X_train, X_test, y_train, y_test = train_test_split(X, y, test_size=0.20)\n",
    "\n",
    "es = EarlyStopping(patience=5)\n",
    "\n",
    "model = Sequential()\n",
    "model.add(SimpleRNN(units=20, activation='tanh'))\n",
    "model.add(Dense(10, activation=\"relu\"))\n",
    "model.add(Dense(1, activation=\"linear\"))\n",
    "\n",
    "model.compile(loss='mse', \n",
    "              optimizer='adam') #change to adam\n",
    "\n",
    "model.fit(X_new, y_new,\n",
    "          epochs=10, \n",
    "          verbose=1)"
   ]
  },
  {
   "cell_type": "code",
   "execution_count": null,
   "id": "5df3bda4",
   "metadata": {
    "hidden": true
   },
   "outputs": [],
   "source": []
  }
 ],
 "metadata": {
  "kernelspec": {
   "display_name": "Python 3 (ipykernel)",
   "language": "python",
   "name": "python3"
  },
  "language_info": {
   "codemirror_mode": {
    "name": "ipython",
    "version": 3
   },
   "file_extension": ".py",
   "mimetype": "text/x-python",
   "name": "python",
   "nbconvert_exporter": "python",
   "pygments_lexer": "ipython3",
   "version": "3.10.6"
  },
  "toc": {
   "base_numbering": 1,
   "nav_menu": {},
   "number_sections": true,
   "sideBar": true,
   "skip_h1_title": false,
   "title_cell": "Table of Contents",
   "title_sidebar": "Contents",
   "toc_cell": false,
   "toc_position": {},
   "toc_section_display": true,
   "toc_window_display": false
  }
 },
 "nbformat": 4,
 "nbformat_minor": 5
}
